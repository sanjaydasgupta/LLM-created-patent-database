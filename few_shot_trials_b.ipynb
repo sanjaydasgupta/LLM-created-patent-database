{
  "nbformat": 4,
  "nbformat_minor": 0,
  "metadata": {
    "colab": {
      "provenance": [],
      "gpuType": "T4",
      "include_colab_link": true
    },
    "kernelspec": {
      "name": "python3",
      "display_name": "Python 3"
    },
    "language_info": {
      "name": "python"
    },
    "accelerator": "GPU"
  },
  "cells": [
    {
      "cell_type": "markdown",
      "metadata": {
        "id": "view-in-github",
        "colab_type": "text"
      },
      "source": [
        "<a href=\"https://colab.research.google.com/github/sanjaydasgupta/LLM-created-patent-database/blob/main/few_shot_trials.ipynb\" target=\"_parent\"><img src=\"https://colab.research.google.com/assets/colab-badge.svg\" alt=\"Open In Colab\"/></a>"
      ]
    },
    {
      "cell_type": "markdown",
      "source": [
        "# Converting Patent Bibliographic Summaries to JSON Records\n",
        "\n",
        "**CAUTION**: This notebook needs a T4 GPU, and runs for 25-30 minutes. Running it may incur a substantial cost."
      ],
      "metadata": {
        "id": "mLolFff31DxA"
      }
    },
    {
      "cell_type": "markdown",
      "source": [
        "## Install Essential Libraries"
      ],
      "metadata": {
        "id": "0d04Jq04uGOp"
      }
    },
    {
      "cell_type": "code",
      "source": [
        "!pip install -q -U flash-attn\n",
        "!pip install -q -U bitsandbytes\n",
        "!pip install -q -U peft\n",
        "!pip install -q -U accelerate"
      ],
      "metadata": {
        "id": "C_eLWyxmB2-m"
      },
      "execution_count": null,
      "outputs": []
    },
    {
      "cell_type": "markdown",
      "source": [
        "## Load a Model\n",
        "\n",
        "**IMPORTANT**: Obtain a [huggingface token](https://huggingface.co/docs/hub/en/security-tokens) and save it in the Secrets panel on the left, using the name \"HF_TOKEN\". Then restart the run-time before running the cell below."
      ],
      "metadata": {
        "id": "y2jF_WberwRv"
      }
    },
    {
      "cell_type": "code",
      "execution_count": null,
      "metadata": {
        "colab": {
          "base_uri": "https://localhost:8080/",
          "height": 456,
          "referenced_widgets": [
            "77f1bb591f354107aa5bbf4ab0d3db6f",
            "b52089ffea0b4f47a49183793ff351e9",
            "7f84e33cefd54ec9bc29b48113b0f997",
            "8f1b68b8361e4b1fbe5363dd19e5bec5",
            "c42a17514f9c47388c66d2b2236b12a4",
            "ace2760b24b24a438c7e84e85913b270",
            "203960da3951402a8b58872db5eab3b6",
            "92be82e5aec84ea6b6b0ac04f2980e8a",
            "2da45209fe3f4c7fb7b37c9650ef0021",
            "419c87efaa134428960a0ba9b96a378a",
            "c3211a2321f14b97b0c4c47a1059a395",
            "014878ffe05e40758e553840886e5a7d",
            "6c42f1ed9ed4422e8228a1c3857fe825",
            "bc171652a2f94064a1721c0d2bfbf5a5",
            "ad5fe1fd0c854dca9b075d376c886efb",
            "d6ec36a162ac4bd29656fa3a4e6a3107",
            "1f9c764371b646d98d1ba9226133d6a4",
            "3d19a74e5da44ac591e5d910437da109",
            "22990ff5164646428b34aa2d5bf980e4",
            "8ff2690069284174957341c9ee66b187",
            "d3c44dafd7ad4e3e9a9920ce4e745093",
            "bc9028fe5b1b478e8a10258fb238723b",
            "74293ad634f44284be75a4fe744ff06d",
            "a58214e3e3a34d5aa92b2a3b952547b1",
            "24978ec272404e238694450090569956",
            "e76f6c03e93d40b08cdb4af5a67c51af",
            "16ef2eefc76341d08c067b5c56e7f091",
            "c514af7b1a5d4bc5b884b1311ca1d9f6",
            "581db09c688f41a090b9027b9e74c7a9",
            "8aceea2563a54f6eb847bbcc81246799",
            "c182e1cd08cd4cc987f2c2016c7a7b70",
            "10bafb482ab7416fa2f427ce251e0b57",
            "14090e5293e344068a818b02f29a5136",
            "48918c61f4374b21bf3af6e664e4c5a2",
            "bfddb4088eb449098639fe5c4118a411",
            "0d9c200016b341bf8bd71eda7b23f721",
            "3e3a747c9f754466b0c66081a9447cf0",
            "67ac6d683e3b4f8a9d792ab4f847c6bc",
            "bd8e3d5ce7f14d8bb5d7d05eeb2ac8f3",
            "7e93834aa1a4420387e1310725669d12",
            "7846f3ba4d774220a2ea470bc1482f11",
            "42ecb3014b8c491c8afa74297cf64f8e",
            "80725d3a30b04d74a4c2a1f4ab0f341e",
            "c9c588d8835442339e7196893d994a03",
            "830c51eda02f47d68ae633eec720a208",
            "4ade324d0dba4a4fba7862fceb4780e0",
            "b6b1011f05154305897ef24f3cd2473d",
            "a3d80b59929546bf9621589396ee76c9",
            "4ac0bf54251f499f8475c630eb455e81",
            "fd01621527d341aaaa3d4ad6316c20a5",
            "adc517d81b7d4efd90805eba4caae951",
            "33eb783c6e2c45ed96c38f0c361f3a47",
            "9f1e17975b594e01ba390169b55eceea",
            "ace784ba852247d0ab53653285b4fd64",
            "b50fe8e9bf8f4fbc9ae2081776aabf65",
            "ed497ffb60bb47458015c657e61e3d30",
            "2e08e354e58c4e05812b2539d5226fdd",
            "ba06b5b1ba8b4a77a5849c412e3f99b6",
            "34f5c78222a24eed887dcd38c11fd9ae",
            "69b7f453286a4aa09986210f84bac440",
            "0afa70598d3e4f22a1a56cb484d34834",
            "d615455fe15a4d82a3905fa981a576a5",
            "45f3677dae4e47199b75ddd64c51ef94",
            "68fe222a8915421295d4714d4baa3e92",
            "0520f201260f44ec9639d64f750d2ae3",
            "f765a8ed7e2f40f9bffb2113aa707831",
            "b8f8265f1fb54068a35dccfb17a98bf5",
            "90af16021055484cbe9556a5ab03b6de",
            "4684f103eefe43e3a2f7107a293bdb37",
            "98ee22c07ce345a2a23577599a1b09e0",
            "d4d086eed24947f693ce73d2749d9445",
            "a44160bb36b24b5a94eb8c5b57736e59",
            "e67541d663764808ba1870146d7bbfc3",
            "fc5d1d99e45c44bb8458014c53fe90c1",
            "ce140bc8033c486d80e7b4b7e8c776e5",
            "1980fdcc586a4c5c82d1121bee541bc6",
            "905323b8f11a45979b7993eed0582c70",
            "9c7559f159f941d9aa2d0c0eb95af7d3",
            "82b15f2c0eb949b2a83c311ac30aaa11",
            "b526c3c90a0a4ea2bee83acacc303c8a",
            "89f41f740d314a4bb28c60ec434701ea",
            "c4422c979e884ac9bc917b6c80670cf6",
            "799cc88b4adf43f3b2389fb4460095a0",
            "3a504a0e85e24dbf9028ba1d1830acb4",
            "0ced5019e59845b18d83dd4a5ec427a2",
            "dc76265735d046c5914c8f5a0497e695",
            "2795bad248594d45ada2a9ac8b989c44",
            "114e744e172f4f6f8b36df85bde0976d",
            "715a20657b3445f69fbbb9a0eeaee7d1",
            "7ac0490d2c3f40ba8e5846a057cde5a9",
            "a1ea6adaaaa64cb79eb55d28da2a27ec",
            "6544a72966904e5889ccd34694c4cd50",
            "6824f175cadf4cb9b9cc4149bd4103a5",
            "afaf2190911941a9b6683249f707354f",
            "d85758f21de64269b93a9f78544dff1e",
            "a5006a3370ca464eb7ba16f085c43df3",
            "d47ba9ee4aab4581872e885916d26397",
            "b0047a30aa9146f8899d0510454962d0",
            "6203ec546b9f48f58de769bf8b3c52dc",
            "c04f9873415d43edb34ba54bda2017f0",
            "5e0e11b4aff34bd7847bdaf342b92f78",
            "9ae90b9cdd9149b9be75182b94a9901b",
            "e7ab18eea3a34ea5aed1d9510b7800b7",
            "2567d306d79d4802b28d194bff5adbda",
            "a02826e072474a18ab3940ba3d30ca80",
            "d6fb4bda7a934bdb8bcd353f4e9f07f2",
            "524c344ce96d4536939056ced03d0d1f",
            "6414418028434e2c81ea69d3f2c2d213",
            "532ff8c93ae04e158d2792dcb0238274",
            "84413594188d433a9ce3eb4683b7875c",
            "4a6ccb84d5a2435a9fad434047b87d1e",
            "468c3266b0e3421e81bd83877fad19ca",
            "4424e3291e064899b41a9fd9ce0f9426",
            "f37dfb8eeca34c8d97bf9e6392dc17bd",
            "a5394f2ea2774fababa659149d3640e9",
            "8748b2ff86d8485895d121c823eb09e1",
            "95a72c2407904499862bf2e0eb474aa7",
            "d63b026fb09147a7b0ced1cad460d909",
            "c8ad72478f094264b189e7649fe8f276",
            "a2acb5f028c048f6a1fadec4309d9dce",
            "4edb56e685fc4927847e37766d97495b",
            "447d51181f204842902e08d745024e8a",
            "e0f722ffbf39422a8ada97c3445c2c1c",
            "f6026458c1bb498d9c8b7546ed1e4213",
            "727f22c8f6af4f5a9db81c7831d34be9",
            "199412bccece4a3bb1d0baf87ca82ff1",
            "4fc723f0ac234e5ebc36d8ae46078d72",
            "ef658dbdae784af485e2d206bede0e63",
            "c0fe272331804940b13676cebe1cdc90",
            "3b83b7702c6443baaf5628527c60616b",
            "99283aefd5d64d2b9c81a9c0d5cc0255",
            "99fa8bf77bcc43aab63775dc475d745a"
          ]
        },
        "id": "DHjiVIplBV9P",
        "outputId": "a0babfb6-3b72-4b85-dee2-1bd74e5f3898"
      },
      "outputs": [
        {
          "output_type": "display_data",
          "data": {
            "text/plain": [
              "tokenizer_config.json:   0%|          | 0.00/51.0k [00:00<?, ?B/s]"
            ],
            "application/vnd.jupyter.widget-view+json": {
              "version_major": 2,
              "version_minor": 0,
              "model_id": "77f1bb591f354107aa5bbf4ab0d3db6f"
            }
          },
          "metadata": {}
        },
        {
          "output_type": "display_data",
          "data": {
            "text/plain": [
              "tokenizer.json:   0%|          | 0.00/9.09M [00:00<?, ?B/s]"
            ],
            "application/vnd.jupyter.widget-view+json": {
              "version_major": 2,
              "version_minor": 0,
              "model_id": "014878ffe05e40758e553840886e5a7d"
            }
          },
          "metadata": {}
        },
        {
          "output_type": "display_data",
          "data": {
            "text/plain": [
              "special_tokens_map.json:   0%|          | 0.00/73.0 [00:00<?, ?B/s]"
            ],
            "application/vnd.jupyter.widget-view+json": {
              "version_major": 2,
              "version_minor": 0,
              "model_id": "74293ad634f44284be75a4fe744ff06d"
            }
          },
          "metadata": {}
        },
        {
          "output_type": "stream",
          "name": "stderr",
          "text": [
            "Special tokens have been added in the vocabulary, make sure the associated word embeddings are fine-tuned or trained.\n"
          ]
        },
        {
          "output_type": "display_data",
          "data": {
            "text/plain": [
              "config.json:   0%|          | 0.00/654 [00:00<?, ?B/s]"
            ],
            "application/vnd.jupyter.widget-view+json": {
              "version_major": 2,
              "version_minor": 0,
              "model_id": "48918c61f4374b21bf3af6e664e4c5a2"
            }
          },
          "metadata": {}
        },
        {
          "output_type": "stream",
          "name": "stderr",
          "text": [
            "The `load_in_4bit` and `load_in_8bit` arguments are deprecated and will be removed in the future versions. Please, pass a `BitsAndBytesConfig` object in `quantization_config` argument instead.\n"
          ]
        },
        {
          "output_type": "display_data",
          "data": {
            "text/plain": [
              "model.safetensors.index.json:   0%|          | 0.00/23.9k [00:00<?, ?B/s]"
            ],
            "application/vnd.jupyter.widget-view+json": {
              "version_major": 2,
              "version_minor": 0,
              "model_id": "830c51eda02f47d68ae633eec720a208"
            }
          },
          "metadata": {}
        },
        {
          "output_type": "display_data",
          "data": {
            "text/plain": [
              "Downloading shards:   0%|          | 0/4 [00:00<?, ?it/s]"
            ],
            "application/vnd.jupyter.widget-view+json": {
              "version_major": 2,
              "version_minor": 0,
              "model_id": "ed497ffb60bb47458015c657e61e3d30"
            }
          },
          "metadata": {}
        },
        {
          "output_type": "display_data",
          "data": {
            "text/plain": [
              "model-00001-of-00004.safetensors:   0%|          | 0.00/4.98G [00:00<?, ?B/s]"
            ],
            "application/vnd.jupyter.widget-view+json": {
              "version_major": 2,
              "version_minor": 0,
              "model_id": "b8f8265f1fb54068a35dccfb17a98bf5"
            }
          },
          "metadata": {}
        },
        {
          "output_type": "display_data",
          "data": {
            "text/plain": [
              "model-00002-of-00004.safetensors:   0%|          | 0.00/5.00G [00:00<?, ?B/s]"
            ],
            "application/vnd.jupyter.widget-view+json": {
              "version_major": 2,
              "version_minor": 0,
              "model_id": "9c7559f159f941d9aa2d0c0eb95af7d3"
            }
          },
          "metadata": {}
        },
        {
          "output_type": "display_data",
          "data": {
            "text/plain": [
              "model-00003-of-00004.safetensors:   0%|          | 0.00/4.92G [00:00<?, ?B/s]"
            ],
            "application/vnd.jupyter.widget-view+json": {
              "version_major": 2,
              "version_minor": 0,
              "model_id": "715a20657b3445f69fbbb9a0eeaee7d1"
            }
          },
          "metadata": {}
        },
        {
          "output_type": "display_data",
          "data": {
            "text/plain": [
              "model-00004-of-00004.safetensors:   0%|          | 0.00/1.17G [00:00<?, ?B/s]"
            ],
            "application/vnd.jupyter.widget-view+json": {
              "version_major": 2,
              "version_minor": 0,
              "model_id": "c04f9873415d43edb34ba54bda2017f0"
            }
          },
          "metadata": {}
        },
        {
          "output_type": "display_data",
          "data": {
            "text/plain": [
              "Loading checkpoint shards:   0%|          | 0/4 [00:00<?, ?it/s]"
            ],
            "application/vnd.jupyter.widget-view+json": {
              "version_major": 2,
              "version_minor": 0,
              "model_id": "4a6ccb84d5a2435a9fad434047b87d1e"
            }
          },
          "metadata": {}
        },
        {
          "output_type": "display_data",
          "data": {
            "text/plain": [
              "generation_config.json:   0%|          | 0.00/187 [00:00<?, ?B/s]"
            ],
            "application/vnd.jupyter.widget-view+json": {
              "version_major": 2,
              "version_minor": 0,
              "model_id": "447d51181f204842902e08d745024e8a"
            }
          },
          "metadata": {}
        }
      ],
      "source": [
        "import torch\n",
        "from transformers import AutoModelForCausalLM, AutoTokenizer, pipeline\n",
        "\n",
        "torch.random.manual_seed(0)\n",
        "\n",
        "################### Un-comment one of the folowing LLM names #############################\n",
        "#\n",
        "# model_id = \"microsoft/Phi-3-mini-128k-instruct\"\n",
        "# model_id = \"microsoft/Phi-3-mini-4k-instruct\"\n",
        "#\n",
        "model_id = \"meta-llama/Meta-Llama-3-8B-Instruct\"\n",
        "#\n",
        "################### The following LLMs do not support system-prompts #############################\n",
        "# model_id = \"mistralai/Mistral-7B-Instruct-v0.2\"\n",
        "# model_id = \"google/gemma-7b-it\"\n",
        "# model_id = \"google/gemma-1.1-7b-it\"\n",
        "#\n",
        "\n",
        "tokenizer = AutoTokenizer.from_pretrained(model_id, trust_remote_code=True)\n",
        "model = AutoModelForCausalLM.from_pretrained(\n",
        "    model_id,\n",
        "    load_in_4bit=True,\n",
        "    device_map=\"cuda\",\n",
        "    torch_dtype=\"auto\",\n",
        "    trust_remote_code=True,\n",
        ")\n",
        "\n",
        "pipe = pipeline(\n",
        "    \"text-generation\",\n",
        "    model=model,\n",
        "    tokenizer=tokenizer,\n",
        ")"
      ]
    },
    {
      "cell_type": "markdown",
      "source": [
        "## Run Predictions\n",
        "\n",
        "**IMPORTANT**: Add your HF_TOKEN ([huggingface token](https://huggingface.co/docs/hub/en/security-tokens)) in the Secrets panel on the left before running the cell below.\n",
        "\n",
        "The following cell uses a dataset (*s11a.parquet* in the `data` folder) containing two columns *input* and *output*. A few rows of this dataset are used for setting up the few-shot prompting examples. Other rows are used for testing the accuracy of the prompted LLMs conversions. The column *input* contains unstructured text extracted from pages of volume II of the [Official Journal of the Patent Office](https://search.ipindia.gov.in/IPOJournal/Journal/Patent) published on 19th April 2024. The column *output* contains corresponding structured text represented as JSON strings. The strings in *input* were obtained by using [PyMuPDF](https://pypi.org/project/PyMuPDF/). The JSON strings in *output* were obtained using a process completely different from that described here. The dataset contains over 690 rows -- one row for each page of the journal. The PDF document from which the *input* column was created can be found in the `data` folder."
      ],
      "metadata": {
        "id": "A3RBhXS8uWZg"
      }
    },
    {
      "cell_type": "code",
      "source": [
        "import pandas as pd\n",
        "from datetime import datetime\n",
        "from difflib import SequenceMatcher\n",
        "\n",
        "prompt = \"\"\"Study the following pairs of Input (plain-text) and Output (JSON) examples.\n",
        "Then convert the user-provided plain-text record into JSON.\n",
        "Each input contains multiple SECTIONs; and each SECTION contains a TAG, a DESCRIPTION, and a VALUE.\n",
        "The following TAG-DESCRIPTION combinations are used:\n",
        "\"(21) Application No\", \"(19)\", \"(22) Date of filing of Application\", \"(43) Publication Date\",\n",
        "\"(54) Title of the invention\", \"(51) International classification\", \"(31) Priority Document No\", \"(32) Priority Date\",\n",
        "\"(33) Name of priority country\",  \"(86) International Application No\", \"(87) International Publication No \",\n",
        "\"(61) Patent of Addition to Application Number\", \"(62) Divisional to Application Number\", \"(71)Name of Applicant\",\n",
        "\"(72)Name of Inventor\", and \"(57) Abstract\".\n",
        "Minor typos or small textual differences can occur in the DESCRIPTION part.\n",
        "In the Input, the SECTIONs may come in any order, but the SECTION starting with \"(57) Abstract\" always comes at the end.\n",
        "From each SECTION, extract the TAG and the VALUE to produce a TAG-VALUE pair.\n",
        "A VALUE that contains just a date must be rewritten in YYYY-MM-DD (ISO-8601) style.\n",
        "A VALUE that contains just a country or region name must be rewritten as a 2-character (ISO-3166) code.\n",
        "Combine all such TAG-VALUE pairs into a JSON Response with the TAGs arranged in ascending order.\n",
        "Do not generate any TAG-VALUE pairs that are not found in the Input.\"\"\"\n",
        "\n",
        "def score_prediction(output: str, prediction: str) -> float:\n",
        "    return SequenceMatcher(None, output, prediction).ratio()\n",
        "\n",
        "test_row_count = 20 # Number of rows for testing\n",
        "few_shot_count = 5 # Number of rows reserved for few-shot prompting\n",
        "\n",
        "data_url = \"https://github.com/sanjaydasgupta/LLM-created-patent-database/raw/main/data/s11a.parquet\"\n",
        "df5 = pd.read_parquet(data_url).sample(test_row_count + few_shot_count)\n",
        "print('Row count:', len(df5), 'Columns:', list(df5), '\\n')\n",
        "\n",
        "total_elapsed_seconds = total_score = 0\n",
        "\n",
        "for input, output in df5.tail(test_row_count).values:\n",
        "    print('INPUT:', input)\n",
        "    print('OUTPUT:', output)\n",
        "\n",
        "    generation_args = {\n",
        "        \"max_new_tokens\": 1024,\n",
        "        \"return_full_text\": False,\n",
        "        \"temperature\": 0.05,\n",
        "        \"do_sample\": True,\n",
        "    }\n",
        "\n",
        "    messages = [\n",
        "        # System prompt ...\n",
        "        {\"role\": \"system\", \"content\": prompt},\n",
        "        # Shot #1 input and output (from first and second columns of DataFrame) ...\n",
        "        {\"role\": \"user\", \"content\": df5.iat[0, 0]},\n",
        "        {\"role\": \"assistant\", \"content\": df5.iat[0, 1]},\n",
        "        # Shot #2 input and output (from first and second columns of DataFrame) ...\n",
        "        {\"role\": \"user\", \"content\": df5.iat[1, 0]},\n",
        "        {\"role\": \"assistant\", \"content\": df5.iat[1, 1]},\n",
        "        # Shot #3 input and output (from first and second columns of DataFrame) ...\n",
        "        {\"role\": \"user\", \"content\": df5.iat[2, 0]},\n",
        "        {\"role\": \"assistant\", \"content\": df5.iat[2, 1]},\n",
        "        # Question for LLM ...\n",
        "        {\"role\": \"user\", \"content\": input},\n",
        "    ]\n",
        "\n",
        "    t0 = datetime.now()\n",
        "    prediction = pipe(messages, **generation_args)\n",
        "    predicted_string = prediction[0]['generated_text'].strip()\n",
        "    delta_seconds = (datetime.now() - t0).total_seconds()\n",
        "    total_elapsed_seconds += delta_seconds\n",
        "    score = score_prediction(output, predicted_string)\n",
        "    total_score += score\n",
        "    length_ratio = len(predicted_string) / len(output)\n",
        "    print('PRED:', predicted_string)\n",
        "    print('score:', score, 'length:', length_ratio, 'seconds:', delta_seconds)\n",
        "    print('\\n')\n",
        "\n",
        "print('Model:', model_id, 'Mean time:', total_elapsed_seconds / test_row_count, 'Mean score:', total_score / test_row_count)"
      ],
      "metadata": {
        "colab": {
          "base_uri": "https://localhost:8080/"
        },
        "id": "3ExcZjaspVef",
        "outputId": "0e7548bb-d903-4b60-ccdf-0b0b3f388fd9"
      },
      "execution_count": null,
      "outputs": [
        {
          "output_type": "stream",
          "name": "stderr",
          "text": [
            "Setting `pad_token_id` to `eos_token_id`:128001 for open-end generation.\n"
          ]
        },
        {
          "output_type": "stream",
          "name": "stdout",
          "text": [
            "Row count: 25 Columns: ['input', 'output'] \n",
            "\n",
            "INPUT: (21) Application No.202327077326 A  (19) INDIA  (22) Date of filing of Application :14/11/2023  (43) Publication Date : 19/04/2024    (54) Title of the invention : DISCONTINUOUS RECEPTION METHODOLOGY FOR MULTIMEDIA     (51) International classification  :H04W 76/28  (31) Priority Document No  :63/203156  (32) Priority Date  :09/07/2021  (33) Name of priority country  :U.S.A.  (86) International Application No          Filing Date  :PCT/US2022/072846  :09/06/2022  (87) International Publication No  :WO 2023/283512  (61) Patent of Addition to Application Number          Filing Date  :NA :NA (62) Divisional to Application Number          Filing Date  :NA :NA    (71)Name of Applicant :      1)QUALCOMM INCORPORATED        Address of Applicant :ATTN: International IP Administration 5775 Morehouse Drive San Diego, California 92121 -1714 U.S.A.  (72)Name of Inventor :     1)LEE, Hyun Yong     2)HANDE, Prashanth Haridas     3)TINNAKORNSRISUPHAP, P eerapol     4)MONDET, Mickael     5)PRAKASH, Rajat     6)OZTURK, Ozcan   (57) Abstract :  Various aspects of the present disclosure generally relate to wireless communication. In some aspects, a user equipment (UE) may set a hyper frame length based at least  in part on a cadence of multimedia data bursts if discontinuous reception (DRX) cycle are configured for the cadence of the multimedia data bursts. The UE may receive the multimedia data bursts according to the DRX cycles. Numerous other aspects are descr ibed.     No. of Pages : 79  No. of Claims : 30\n",
            "OUTPUT: {\"(19)\": \"INDIA\", \"(21)\": \"202327077326 A\", \"(22)\": \"2023-11-14\", \"(31)\": \"63/203156\", \"(32)\": \"2021-07-09\", \"(33)\": \"US\", \"(43)\": \"2024-04-19\", \"(51)\": \"H04W 76/28\", \"(54)\": \"DISCONTINUOUS RECEPTION METHODOLOGY FOR MULTIMEDIA\", \"(57)\": \"Various aspects of the present disclosure generally relate to wireless communication. In some aspects, a user equipment (UE) may set a hyper frame length based at least  in part on a cadence of multimedia data bursts if discontinuous reception (DRX) cycle are configured for the cadence of the multimedia data bursts. The UE may receive the multimedia data bursts according to the DRX cycles. Numerous other aspects are descr ibed.     No. of Pages : 79  No. of Claims : 30\", \"(61)\": \"NA :NA\", \"(62)\": \"NA :NA\", \"(71)\": \"1)QUALCOMM INCORPORATED        Address of Applicant :ATTN: International IP Administration 5775 Morehouse Drive San Diego, California 92121 -1714 U.S.A.\", \"(72)\": \"1)LEE, Hyun Yong     2)HANDE, Prashanth Haridas     3)TINNAKORNSRISUPHAP, P eerapol     4)MONDET, Mickael     5)PRAKASH, Rajat     6)OZTURK, Ozcan\", \"(86)\": \"PCT/US2022/072846  :09/06/2022\", \"(87)\": \"WO 2023/283512\"}\n"
          ]
        },
        {
          "output_type": "stream",
          "name": "stderr",
          "text": [
            "Setting `pad_token_id` to `eos_token_id`:128001 for open-end generation.\n"
          ]
        },
        {
          "output_type": "stream",
          "name": "stdout",
          "text": [
            "PRED: {\"(19)\": \"INDIA\", \"(21)\": \"202327077326 A\", \"(22)\": \"2023-11-14\", \"(31)\": \"63/203156\", \"(32)\": \"2021-07-09\", \"(33)\": \"US\", \"(43)\": \"2024-04-19\", \"(51)\": \"H04W 76/28\", \"(54)\": \"DISCONTINUOUS RECEPTION METHODOLOGY FOR MULTIMEDIA\", \"(57)\": \"Various aspects of the present disclosure generally relate to wireless communication. In some aspects, a user equipment (UE) may set a hyper frame length based at least  in part on a cadence of multimedia data bursts if discontinuous reception (DRX) cycle are configured for the cadence of the multimedia data bursts. The UE may receive the multimedia data bursts according to the DRX cycles. Numerous other aspects are descr ibed.     No. of Pages : 79  No. of Claims : 30\", \"(61)\": \"NA :NA\", \"(62)\": \"NA :NA\", \"(71)\": \"1)QUALCOMM INCORPORATED        Address of Applicant :ATTN: International IP Administration 5775 Morehouse Drive San Diego, California 92121 -1714 U.S.A.\", \"(72)\": \"1)LEE, Hyun Yong     2)HANDE, Prashanth Haridas     3)TINNAKORNSRISUPHAP, P eerapol     4)MONDET, Mickael     5)PRAKASH, Rajat     6)OZTURK, Ozcan\", \"(86)\": \"PCT/US2022/072846  :09/06/2022\", \"(87)\": \"WO 2023/283512\"}\n",
            "score: 1.0 length: 1.0 seconds: 65.003069\n",
            "\n",
            "\n",
            "INPUT: (21) Application No.202211059208 A  (19) INDIA  (22) Date of filing of Application :17/10/2022  (43) Publication Date : 19/04/2024    (54) Title of the invention : PROCESS FOR GUIDE RNA SEQUENCE GENERATION AND CRISPR BASED IN VITRO DETECTION ASS AY FOR CLADE C HIV -1    (51) International classification  :C12Q0001684400, C12Q0001700000, C12N0015113000, C12N0015900000, C12N0009220000  (31) Priority Document No  :NA (32) Priority Date  :NA (33) Name of priority country  :NA (86) International Ap plication No          Filing Date  :NA :NA (87) International Publication No  : NA  (61) Patent of Addition to Application Number          Filing Date  :NA :NA (62) Divisional to Application Number          Filing Date  :NA :NA    (71)Name of Applicant :     1)ALL INDIA INSTITUTE OF MEDICAL SCIENCES        Address of Applicant :Medical Sciences, Ansari Nagar, New Delhi 110029, INDIA New Delhi Delhi India     2)DEPARTMENT OF BIOTECHNOLOGY  (72)Name of Inventor :     1)LUTHRA, Kalpana     2)GAUR, Anjli     3)BHAKH RI, Harsh     4)MISHRA, Nitesh     5)SHARMA, Shaifali     6)BANSAL, Tanu     7)LODHA, Rakesh     8)SINHA, Subrata   (57) Abstract :  ABSTRACT The present invention provides a gRNA sequences, RPA amplification (recombinase polymerase amplification) primers, and an assay for detection of HIV -1 Clade C, using the gRNA sequence and primers. The synthesized gRNA and the primer can be employed for detection of HIV -1 infection in infant and adult human subject, through in vitro CRISPR/Cas12a based detection assay.    No. of Pages : 41  No. of Claims : 15\n",
            "OUTPUT: {\"(19)\": \"INDIA\", \"(21)\": \"202211059208 A\", \"(22)\": \"2022-10-17\", \"(31)\": \"NA\", \"(32)\": \"NA\", \"(33)\": \"IN\", \"(43)\": \"2024-04-19\", \"(51)\": \"C12Q0001684400, C12Q0001700000, C12N0015113000, C12N0015900000, C12N0009220000\", \"(54)\": \"PROCESS FOR GUIDE RNA SEQUENCE GENERATION AND CRISPR BASED IN VITRO DETECTION ASS AY FOR CLADE C HIV -1\", \"(57)\": \"ABSTRACT The present invention provides a gRNA sequences, RPA amplification (recombinase polymerase amplification) primers, and an assay for detection of HIV -1 Clade C, using the gRNA sequence and primers. The synthesized gRNA and the primer can be employed for detection of HIV -1 infection in infant and adult human subject, through in vitro CRISPR/Cas12a based detection assay.    No. of Pages : 41  No. of Claims : 15\", \"(61)\": \"NA :NA\", \"(62)\": \"NA :NA\", \"(71)\": \"1)ALL INDIA INSTITUTE OF MEDICAL SCIENCES        Address of Applicant :Medical Sciences, Ansari Nagar, New Delhi 110029, INDIA New Delhi Delhi India     2)DEPARTMENT OF BIOTECHNOLOGY\", \"(72)\": \"1)LUTHRA, Kalpana     2)GAUR, Anjli     3)BHAKH RI, Harsh     4)MISHRA, Nitesh     5)SHARMA, Shaifali     6)BANSAL, Tanu     7)LODHA, Rakesh     8)SINHA, Subrata\", \"(86)\": \"NA :NA\", \"(87)\": \"NA\"}\n"
          ]
        },
        {
          "output_type": "stream",
          "name": "stderr",
          "text": [
            "Setting `pad_token_id` to `eos_token_id`:128001 for open-end generation.\n"
          ]
        },
        {
          "output_type": "stream",
          "name": "stdout",
          "text": [
            "PRED: {\"(19)\": \"INDIA\", \"(21)\": \"202211059208 A\", \"(22)\": \"2022-10-17\", \"(43)\": \"2024-04-19\", \"(51)\": \"C12Q0001684400, C12Q0001700000, C12N0015113000, C12N0015900000, C12N0009220000\", \"(54)\": \"PROCESS FOR GUIDE RNA SEQUENCE GENERATION AND CRISPR BASED IN VITRO DETECTION ASS AY FOR CLADE C HIV -1\", \"(57)\": \"ABSTRACT The present invention provides a gRNA sequences, RPA amplification (recombinase polymerase amplification) primers, and an assay for detection of HIV -1 Clade C, using the gRNA sequence and primers. The synthesized gRNA and the primer can be employed for detection of HIV -1 infection in infant and adult human subject, through in vitro CRISPR/Cas12a based detection assay.    No. of Pages : 41  No. of Claims : 15\", \"(61)\": \"NA :NA\", \"(62)\": \"NA :NA\", \"(71)\": \"1)ALL INDIA INSTITUTE OF MEDICAL SCIENCES        Address of Applicant :Medical Sciences, Ansari Nagar, New Delhi 110029, INDIA New Delhi Delhi India     2)DEPARTMENT OF BIOTECHNOLOGY\", \"(72)\": \"1)LUTHRA, Kalpana     2)GAUR, Anjli     3)BHAKH RI, Harsh     4)MISHRA, Nitesh     5)SHARMA, Shaifali     6)BANSAL, Tanu     7)LODHA, Rakesh     8)SINHA, Subrata\", \"(86)\": \"NA :NA\", \"(87)\": \"NA\"}\n",
            "score: 0.9822335025380711 length: 0.9650872817955112 seconds: 73.676472\n",
            "\n",
            "\n",
            "INPUT: (21) Application No.202328057209 A  (19) INDIA  (22) Date of filing of Application :25/08/2023  (43) Publication Date : 19/04/2024    (54) Title of the invention : FOOTWEAR C OUNTER FOR EASIER ENTRY AND REMOVAL     (51) International classification  :A43B 23/17, A43B 23/08, A43B 11/02, A43B 11/00, A43B 23/10  (31) Priority Document No  :63/256,521  (32) Priority Date  :15/10/2021  (33) Name of priority country  :U.S.A.  (86) International Application No          Filing Date  :PCT/US2022/046726  :14/10/2022  (87) International Publication No  : NA  (61) Patent of Addition to Application Number          Filing Date  :NA :NA (62) Divisional to Application Number          Filed on  :202327055365  :18/08/2023     (71)Name of Applicant :     1)SKECHERS U.S.A., INC. II        Address of Applicant :228 Manhattan Beach Blvd. Manhattan Beach, California 90266, United States of America U.S.A.  (72)Name of Inventor :     1)XIE, Hui     2)WEEKS, John Maxwell     3)TJA, Johnson     4)LIAO, Pei -Chun     5)CHUANG, Frank F.     6)STOCKBRIDGE, Kurt     7)KELLEY, Scott   (57) Abstract :  FOOTWEAR COUNTER FOR EASIER ENTRY AND REMOVAL An article of footwear includes a heel cup attached to an upper and extendi ng from a sole structure to at least a portion of a rear heel collar of the upper. The heel cup is uniformly molded with an upper portion, midportion, and lower portion and the upper portion has a smaller mediolateral length than the midportion, and  the midportion and lower portion from a concave structure configured to receive the heel. The upper portion is capable of distortin g from a first configuration into a second configuration under a load of a user's foot when the user is donning the footwear. In th e second configuration, at least part of the upper portion is lowered relative to the first configuration and is capable of returning to the first configuration after the load of the user's foot is removed. The midportion includes a peripheral portion thic ker than a central portion. FIGURE 2.     No. of Pages : 35  No. of Claims : 10\n",
            "OUTPUT: {\"(19)\": \"INDIA\", \"(21)\": \"202328057209 A\", \"(22)\": \"2023-08-25\", \"(31)\": \"63/256,521\", \"(32)\": \"2021-10-15\", \"(33)\": \"US\", \"(43)\": \"2024-04-19\", \"(51)\": \"A43B 23/17, A43B 23/08, A43B 11/02, A43B 11/00, A43B 23/10\", \"(54)\": \"FOOTWEAR C OUNTER FOR EASIER ENTRY AND REMOVAL\", \"(57)\": \"FOOTWEAR COUNTER FOR EASIER ENTRY AND REMOVAL An article of footwear includes a heel cup attached to an upper and extendi ng from a sole structure to at least a portion of a rear heel collar of the upper. The heel cup is uniformly molded with an upper portion, midportion, and lower portion and the upper portion has a smaller mediolateral length than the midportion, and  the midportion and lower portion from a concave structure configured to receive the heel. The upper portion is capable of distortin g from a first configuration into a second configuration under a load of a user's foot when the user is donning the footwear. In th e second configuration, at least part of the upper portion is lowered relative to the first configuration and is capable of returning to the first configuration after the load of the user's foot is removed. The midportion includes a peripheral portion thic ker than a central portion. FIGURE 2.     No. of Pages : 35  No. of Claims : 10\", \"(61)\": \"NA :NA\", \"(62)\": \"Filed on  :202327055365  :18/08/2023\", \"(71)\": \"1)SKECHERS U.S.A., INC. II        Address of Applicant :228 Manhattan Beach Blvd. Manhattan Beach, California 90266, United States of America U.S.A.\", \"(72)\": \"1)XIE, Hui     2)WEEKS, John Maxwell     3)TJA, Johnson     4)LIAO, Pei -Chun     5)CHUANG, Frank F.     6)STOCKBRIDGE, Kurt     7)KELLEY, Scott\", \"(86)\": \"PCT/US2022/046726  :14/10/2022\", \"(87)\": \"NA\"}\n"
          ]
        },
        {
          "output_type": "stream",
          "name": "stderr",
          "text": [
            "Setting `pad_token_id` to `eos_token_id`:128001 for open-end generation.\n"
          ]
        },
        {
          "output_type": "stream",
          "name": "stdout",
          "text": [
            "PRED: {\"(19)\": \"INDIA\", \"(21)\": \"202328057209 A\", \"(22)\": \"2023-08-25\", \"(31)\": \"63/256,521\", \"(32)\": \"2021-10-15\", \"(33)\": \"US\", \"(43)\": \"2024-04-19\", \"(51)\": \"A43B 23/17, A43B 23/08, A43B 11/02, A43B 11/00, A43B 23/10\", \"(54)\": \"FOOTWEAR C OUNTER FOR EASIER ENTRY AND REMOVAL\", \"(57)\": \"An article of footwear includes a heel cup attached to an upper and extendi ng from a sole structure to at least a portion of a rear heel collar of the upper. The heel cup is uniformly molded with an upper portion, midportion, and lower portion and the upper portion has a smaller mediolateral length than the midportion, and  the midportion and lower portion from a concave structure configured to receive the heel. The upper portion is capable of distortin g from a first configuration into a second configuration under a load of a user's foot when the user is donning the footwear. In th e second configuration, at least part of the upper portion is lowered relative to the first configuration and is capable of returning to the first configuration after the load of the user's foot is removed. The midportion includes a peripheral portion thic ker than a central portion. FIGURE 2.     No. of Pages : 35  No. of Claims : 10\", \"(61)\": \"NA :NA\", \"(62)\": \"202327055365  :18/08/2023\", \"(71)\": \"1)SKECHERS U.S.A., INC. II        Address of Applicant :228 Manhattan Beach Blvd. Manhattan Beach, California 90266, United States of America U.S.A.\", \"(72)\": \"1)XIE, Hui     2)WEEKS, John Maxwell     3)TJA, Johnson     4)LIAO, Pei -Chun     5)CHUANG, Frank F.     6)STOCKBRIDGE, Kurt     7)KELLEY, Scott\", \"(86)\": \"PCT/US2022/046726  :14/10/2022\", \"(87)\": \"NA\"}\n",
            "score: 0.9829085457271365 length: 0.9663915094339622 seconds: 86.366158\n",
            "\n",
            "\n",
            "INPUT: (21) Application No.202327076143 A  (19) INDIA  (22) Date of filing of Application :08/11/2023  (43) Publication Date : 19/04/2024    (54) Title of the invention : BASE STATION, T ERMINAL, AND COMMUNICATION METHOD     (51) International classification  :H04W 28/06, H04W 48/12, H04W 48/18, H04W 84/12  (31) Priority Document No  :2021 -081515  (32) Priority Date  :13/05/2021  (33) Name of priority country  :Japan  (86) International Application No          Filing Date  :PCT/JP2022/009953  :08/03/2022  (87) International Publication No  :WO 2022/239426  (61) Patent of Addition to Application Number          Filing Date  :NA :NA (62) Divisional to Application Number          Filing Date  :NA :NA    (71)Name of Applicant :     1)PANASONIC INTELLECTUAL PROPERTY CORPORATION OF AMERICA        Address of Applicant :2050 W 190th Street Suite 450, Torrance, California 90504 U.S.A.  (72)Name of Inventor :     1)IWAI, Takashi   (57) Abstract :  This base station comprises: a control circuit which generates a control signal for uplink transmission including, in a field comm on to a plurality of terminals, information pertaining to a version of the wireless communication specification and a subfield tha t is differently configured according to the version; and a transmission circuit which transmits the control signal.     No. of Pages : 42  No. of Claims : 15\n",
            "OUTPUT: {\"(19)\": \"INDIA\", \"(21)\": \"202327076143 A\", \"(22)\": \"2023-11-08\", \"(31)\": \"2021 -081515\", \"(32)\": \"2021-05-13\", \"(33)\": \"JP\", \"(43)\": \"2024-04-19\", \"(51)\": \"H04W 28/06, H04W 48/12, H04W 48/18, H04W 84/12\", \"(54)\": \"BASE STATION, T ERMINAL, AND COMMUNICATION METHOD\", \"(57)\": \"This base station comprises: a control circuit which generates a control signal for uplink transmission including, in a field comm on to a plurality of terminals, information pertaining to a version of the wireless communication specification and a subfield tha t is differently configured according to the version; and a transmission circuit which transmits the control signal.     No. of Pages : 42  No. of Claims : 15\", \"(61)\": \"NA :NA\", \"(62)\": \"NA :NA\", \"(71)\": \"1)PANASONIC INTELLECTUAL PROPERTY CORPORATION OF AMERICA        Address of Applicant :2050 W 190th Street Suite 450, Torrance, California 90504 U.S.A.\", \"(72)\": \"1)IWAI, Takashi\", \"(86)\": \"PCT/JP2022/009953  :08/03/2022\", \"(87)\": \"WO 2022/239426\"}\n"
          ]
        },
        {
          "output_type": "stream",
          "name": "stderr",
          "text": [
            "Setting `pad_token_id` to `eos_token_id`:128001 for open-end generation.\n"
          ]
        },
        {
          "output_type": "stream",
          "name": "stdout",
          "text": [
            "PRED: {\"(19)\": \"INDIA\", \"(21)\": \"202327076143 A\", \"(22)\": \"2023-11-08\", \"(31)\": \"2021-081515\", \"(32)\": \"2021-05-13\", \"(33)\": \"JP\", \"(43)\": \"2024-04-19\", \"(51)\": \"H04W 28/06, H04W 48/12, H04W 48/18, H04W 84/12\", \"(54)\": \"BASE STATION, T ERMINAL, AND COMMUNICATION METHOD\", \"(57)\": \"This base station comprises: a control circuit which generates a control signal for uplink transmission including, in a field comm on to a plurality of terminals, information pertaining to a version of the wireless communication specification and a subfield tha t is differently configured according to the version; and a transmission circuit which transmits the control signal.     No. of Pages : 42  No. of Claims : 15\", \"(61)\": \"NA :NA\", \"(62)\": \"NA :NA\", \"(71)\": \"1)PANASONIC INTELLECTUAL PROPERTY CORPORATION OF AMERICA        Address of Applicant :2050 W 190th Street Suite 450, Torrance, California 90504 U.S.A.\", \"(72)\": \"1)IWAI, Takashi\", \"(86)\": \"PCT/JP2022/009953  :08/03/2022\", \"(87)\": \"WO 2022/239426\"}\n",
            "score: 0.9994952044422009 length: 0.9989909182643795 seconds: 62.426278\n",
            "\n",
            "\n",
            "INPUT: (21) Application No.202317009714 A  (19) INDIA  (22) Date of filing of Application :14/02/2023  (43) Publication Date : 19/04/2024    (54) Title of the invention : ABNORMALITY DETERMINATION DEVICE, A BNORMALITY DETERMINATION METHOD, AND PROGRAM     (51) International classification  :G01M 99/00, H02P 29/024  (31) Priority Document No  :2020 -131881  (32) Priority Date  :03/08/2020  (33) Name of priority country  :Japan  (86) International Application No         Filing Date  :PCT/JP2021/028861  :03/08/2021  (87) International Publication No  :WO 2022/030516  (61) Patent of Addition to Application Number          Filing Date  :NA :NA (62) Divisional to Application Number          Filing Date  :NA :NA    (71)Name of Applicant :     1)DAIKIN INDUSTRIES, LTD.        Address of Applicant :Umeda Center Building, 4 -12, Nakazaki -Nishi 2 -chome, Kita -ku, Osaka -shi, Osaka 5308323 Japan  (72)Name of Inventor :     1)KOBORI, Hirokazu     2)ARAKI, Takeshi     3)IWAIDA, Yum emi    4)IKEBE, Hiroki   (57) Abstract :  Provided is a technology capable of more appropriately determining an abnormality in a mechanical element of a rotating machi ne. A control device 40 according to one embodiment of the present disclosure includes a n abnormality determination unit 403 which determines an abnormality in a mechanical element of a compressor 10 electrically driven by an electric motor 20, on the basi s of an electric feature amount of the compressor 10. The electrical feature amount is a  specific frequency component of a signal indicating a physical quantity which correlates with the current of the electric motor 20 which drives the compressor 10. The specific fre quency component is a component of a predetermined positive integer multiple  of the rotation frequency of the compressor 10. The abnormality determination unit 403 determines an abnormality in the mechanical element of the compressor 10, in consideration  of a change in the relationship between the abnormality in the mechanical ele ment and the electrical feature amount of the compressor 10 (electric motor 20) due to a change in the rotation frequency of the compressor 10.    No. of Pages : 76  No. of Claims : 29\n",
            "OUTPUT: {\"(19)\": \"INDIA\", \"(21)\": \"202317009714 A\", \"(22)\": \"2023-02-14\", \"(31)\": \"2020 -131881\", \"(32)\": \"2020-08-03\", \"(33)\": \"JP\", \"(43)\": \"2024-04-19\", \"(51)\": \"G01M 99/00, H02P 29/024\", \"(54)\": \"ABNORMALITY DETERMINATION DEVICE, A BNORMALITY DETERMINATION METHOD, AND PROGRAM\", \"(57)\": \"Provided is a technology capable of more appropriately determining an abnormality in a mechanical element of a rotating machi ne. A control device 40 according to one embodiment of the present disclosure includes a n abnormality determination unit 403 which determines an abnormality in a mechanical element of a compressor 10 electrically driven by an electric motor 20, on the basi s of an electric feature amount of the compressor 10. The electrical feature amount is a  specific frequency component of a signal indicating a physical quantity which correlates with the current of the electric motor 20 which drives the compressor 10. The specific fre quency component is a component of a predetermined positive integer multiple  of the rotation frequency of the compressor 10. The abnormality determination unit 403 determines an abnormality in the mechanical element of the compressor 10, in consideration  of a change in the relationship between the abnormality in the mechanical ele ment and the electrical feature amount of the compressor 10 (electric motor 20) due to a change in the rotation frequency of the compressor 10.    No. of Pages : 76  No. of Claims : 29\", \"(61)\": \"NA :NA\", \"(62)\": \"NA :NA\", \"(71)\": \"1)DAIKIN INDUSTRIES, LTD.        Address of Applicant :Umeda Center Building, 4 -12, Nakazaki -Nishi 2 -chome, Kita -ku, Osaka -shi, Osaka 5308323 Japan\", \"(72)\": \"1)KOBORI, Hirokazu     2)ARAKI, Takeshi     3)IWAIDA, Yum emi    4)IKEBE, Hiroki\", \"(86)\": \"PCT/JP2021/028861  :03/08/2021\", \"(87)\": \"WO 2022/030516\"}\n"
          ]
        },
        {
          "output_type": "stream",
          "name": "stderr",
          "text": [
            "Setting `pad_token_id` to `eos_token_id`:128001 for open-end generation.\n"
          ]
        },
        {
          "output_type": "stream",
          "name": "stdout",
          "text": [
            "PRED: {\"(19)\": \"INDIA\", \"(21)\": \"202317009714 A\", \"(22)\": \"2023-02-14\", \"(31)\": \"2020-131881\", \"(32)\": \"2020-08-03\", \"(33)\": \"JP\", \"(43)\": \"2024-04-19\", \"(51)\": \"G01M 99/00, H02P 29/024\", \"(54)\": \"ABNORMALITY DETERMINATION DEVICE, A BNORMALITY DETERMINATION METHOD, AND PROGRAM\", \"(57)\": \"Provided is a technology capable of more appropriately determining an abnormality in a mechanical element of a rotating machi ne. A control device 40 according to one embodiment of the present disclosure includes a n abnormality determination unit 403 which determines an abnormality in a mechanical element of a compressor 10 electrically driven by an electric motor 20, on the basi s of an electric feature amount of the compressor 10. The electrical feature amount is a  specific frequency component of a signal indicating a physical quantity which correlates with the current of the electric motor 20 which drives the compressor 10. The specific fre quency component is a component of a predetermined positive integer multiple  of the rotation frequency of the compressor 10. The abnormality determination unit 403 determines an abnormality in the mechanical element of the compressor 10, in consideration  of a change in the relationship between the abnormality in the mechanical ele ment and the electrical feature amount of the compressor 10 (electric motor 20) due to a change in the rotation frequency of the compressor 10.    No. of Pages : 76  No. of Claims : 29\", \"(61)\": \"NA :NA\", \"(62)\": \"NA :NA\", \"(71)\": \"1)DAIKIN INDUSTRIES, LTD.        Address of Applicant :Umeda Center Building, 4 -12, Nakazaki -Nishi 2 -chome, Kita -ku, Osaka -shi, Osaka 5308323 Japan\", \"(72)\": \"1)KOBORI, Hirokazu     2)ARAKI, Takeshi     3)IWAIDA, Yum emi    4)IKEBE, Hiroki\", \"(86)\": \"PCT/JP2021/028861  :03/08/2021\", \"(87)\": \"WO 2022/030516\"}\n",
            "score: 0.9997250481165796 length: 0.999450247388675 seconds: 86.787256\n",
            "\n",
            "\n",
            "INPUT: (21) Application No.202314013220 A  (19) INDIA  (22) Date of filing of Application :27/02/2023  (43) Publication Date : 19/04/2024    (54) Title of th e invention : YARN PROCESSING FACILITY     (51) International classification  :A61P0035000000, D02J0001080000, E21B0043360000, E21B0043160000, G06F0001160000  (31) Priority Document No  :2022 -044524  (32) Priority Date  :18/03/2022  (33) Name of priority  country  :Japan  (86) International Application No          Filing Date  :NA :NA (87) International Publication No  : NA  (61) Patent of Addition to Application Number          Filing Date  :NA :NA (62) Divisional to Application Number          Filing Dat e :NA :NA    (71)Name of Applicant :     1)TMT Machinery, Inc.        Address of Applicant :6th Fl., Osaka Green Bldg., 2 -6-26 Kitahama, Chuo -ku, Osaka -shi, Osaka 541 -0041, Japan Japan  (72)Name of Inventor :     1)Norihiro NAGAI   (57) Abstract :  An obje ct of the present invention is to make it easy to obtain information of an individual wound amount of a 5 yarn in each of in -production packages produced in a factory and/or information of a total wound amount of the packages, and to reduce the burde n on an operator regarding the acquisition of the individual wound amount and/or the total wound amount. For each of spindles 9, an  information 10 management unit 110 of a yarn processing facility 100 acquires individual wound amount inclusive information t hat takes into account of an individual wound amount indicating a wound amount of a yarn Y included in an in -production package PwM that is formed at a predetermined winding 15 information reference time or was formed at the winding information reference ti me a s a wound package Pw. In addition to this or in place of this, the information management unit 110 obtains total wound amount inc lusive information in which a total wound amount calculate by 20 adding up individual wound amounts of the spindles 9 is taken into account. Furthermore, the information management unit 110 causes a machine output unit 5b to output the obtained individual w ound amount inclusive information and/or the obtained total wound amount inclusive information.    No. of Pages : 103  No. of Claims : 12\n",
            "OUTPUT: {\"(19)\": \"INDIA\", \"(21)\": \"202314013220 A\", \"(22)\": \"2023-02-27\", \"(31)\": \"2022 -044524\", \"(32)\": \"2022-03-18\", \"(33)\": \"JP\", \"(43)\": \"2024-04-19\", \"(51)\": \"A61P0035000000, D02J0001080000, E21B0043360000, E21B0043160000, G06F0001160000\", \"(54)\": \"YARN PROCESSING FACILITY\", \"(57)\": \"An obje ct of the present invention is to make it easy to obtain information of an individual wound amount of a 5 yarn in each of in -production packages produced in a factory and/or information of a total wound amount of the packages, and to reduce the burde n on an operator regarding the acquisition of the individual wound amount and/or the total wound amount. For each of spindles 9, an  information 10 management unit 110 of a yarn processing facility 100 acquires individual wound amount inclusive information t hat takes into account of an individual wound amount indicating a wound amount of a yarn Y included in an in -production package PwM that is formed at a predetermined winding 15 information reference time or was formed at the winding information reference ti me a s a wound package Pw. In addition to this or in place of this, the information management unit 110 obtains total wound amount inc lusive information in which a total wound amount calculate by 20 adding up individual wound amounts of the spindles 9 is taken into account. Furthermore, the information management unit 110 causes a machine output unit 5b to output the obtained individual w ound amount inclusive information and/or the obtained total wound amount inclusive information.    No. of Pages : 103  No. of Claims : 12\", \"(61)\": \"NA :NA\", \"(62)\": \"NA :NA\", \"(71)\": \"1)TMT Machinery, Inc.        Address of Applicant :6th Fl., Osaka Green Bldg., 2 -6-26 Kitahama, Chuo -ku, Osaka -shi, Osaka 541 -0041, Japan Japan\", \"(72)\": \"1)Norihiro NAGAI\", \"(86)\": \"NA :NA\", \"(87)\": \"NA\"}\n"
          ]
        },
        {
          "output_type": "stream",
          "name": "stderr",
          "text": [
            "Setting `pad_token_id` to `eos_token_id`:128001 for open-end generation.\n"
          ]
        },
        {
          "output_type": "stream",
          "name": "stdout",
          "text": [
            "PRED: {\"(19)\": \"INDIA\", \"(21)\": \"202314013220 A\", \"(22)\": \"2023-02-27\", \"(31)\": \"2022-044524\", \"(32)\": \"2022-03-18\", \"(33)\": \"JP\", \"(43)\": \"2024-04-19\", \"(51)\": \"A61P0035000000, D02J0001080000, E21B0043360000, E21B0043160000, G06F0001160000\", \"(54)\": \"YARN PROCESSING FACILITY\", \"(57)\": \"An obje ct of the present invention is to make it easy to obtain information of an individual wound amount of a 5 yarn in each of in -production packages produced in a factory and/or information of a total wound amount of the packages, and to reduce the burde n on an operator regarding the acquisition of the individual wound amount and/or the total wound amount. For each of spindles 9, an  information 10 management unit 110 of a yarn processing facility 100 acquires individual wound amount inclusive information t hat takes into account of an individual wound amount indicating a wound amount of a yarn Y included in an in -production package PwM that is formed at a predetermined winding 15 information reference time or was formed at the winding information reference ti me a s a wound package Pw. In addition to this or in place of this, the information management unit 110 obtains total wound amount inc lusive information in which a total wound amount calculate by 20 adding up individual wound amounts of the spindles 9 is taken into account. Furthermore, the information management unit 110 causes a machine output unit 5b to output the obtained individual w ound amount inclusive information and/or the obtained total wound amount inclusive information.    No. of Pages : 103  No. of Claims : 12\", \"(61)\": \"NA :NA\", \"(62)\": \"NA :NA\", \"(71)\": \"1)TMT Machinery, Inc.        Address of Applicant :6th Fl., Osaka Green Bldg., 2 -6-26 Kitahama, Chuo -ku, Osaka -shi, Osaka 541 -0041, Japan Japan\", \"(72)\": \"1)Norihiro NAGAI\", \"(86)\": \"NA :NA\", \"(87)\": \"NA\"}\n",
            "score: 0.9997293640054127 length: 0.9994588744588745 seconds: 85.190697\n",
            "\n",
            "\n",
            "INPUT: (21) Application No.202327076165 A  (19) INDIA  (22) D ate of filing of Application :08/11/2023  (43) Publication Date : 19/04/2024    (54) Title of the invention : MULTI -TRANSMITTER SCHEDULING USING SUB -SLOT BASED PHYSICAL SIDELINK SHARED CHANNELS     (51) International classification  :H04L 5/00  (31) Priori ty Document No  :17/377100  (32) Priority Date  :15/07/2021  (33) Name of priority country  :U.S.A.  (86) International Application No          Filing Date  :PCT/US2022/034203  :21/06/2022  (87) International Publication No  :WO 2023/287552  (61) Patent of  Addition to Application Number          Filing Date  :NA :NA (62) Divisional to Application Number          Filing Date  :NA :NA    (71)Name of Applicant :     1)QUALCOMM INCORPORATED        Address of Applicant :Attn: International IP Administration 5775 M orehouse Drive San Diego, California 92121 -1714 U.S.A.  (72)Name of Inventor :     1)LIU, Chih -Hao    2)SUN, Jing     3)FONG, Lik Hang Silas     4)XUE, Yisheng     5)ZHANG, Xiaoxia     6)RYU, Jung Ho   (57) Abstract :  Wireless communications systems and metho ds related to communicating information are provided. A method of wireless communication performed by a user equipment (UE) may include mapping a sub -physical sidelink shared channel (sub -PSSCH), sidelink control information (SCI), and an automatic gain co ntrol (AGC) symbol to a sub -slot of a plurality of sub -slots of a slot and transmitting, to at least one other UE, a transport block via the sub -PSSCH of the sub -slot.    No. of Pages : 45  No. of Claims : 30\n",
            "OUTPUT: {\"(19)\": \"INDIA\", \"(21)\": \"202327076165 A\", \"(22)\": \"2023-11-08\", \"(31)\": \"17/377100\", \"(32)\": \"2021-07-15\", \"(33)\": \"US\", \"(43)\": \"2024-04-19\", \"(51)\": \"H04L 5/00\", \"(54)\": \"MULTI -TRANSMITTER SCHEDULING USING SUB -SLOT BASED PHYSICAL SIDELINK SHARED CHANNELS\", \"(57)\": \"Wireless communications systems and metho ds related to communicating information are provided. A method of wireless communication performed by a user equipment (UE) may include mapping a sub -physical sidelink shared channel (sub -PSSCH), sidelink control information (SCI), and an automatic gain co ntrol (AGC) symbol to a sub -slot of a plurality of sub -slots of a slot and transmitting, to at least one other UE, a transport block via the sub -PSSCH of the sub -slot.    No. of Pages : 45  No. of Claims : 30\", \"(61)\": \"NA :NA\", \"(62)\": \"NA :NA\", \"(71)\": \"1)QUALCOMM INCORPORATED        Address of Applicant :Attn: International IP Administration 5775 M orehouse Drive San Diego, California 92121 -1714 U.S.A.\", \"(72)\": \"1)LIU, Chih -Hao    2)SUN, Jing     3)FONG, Lik Hang Silas     4)XUE, Yisheng     5)ZHANG, Xiaoxia     6)RYU, Jung Ho\", \"(86)\": \"PCT/US2022/034203  :21/06/2022\", \"(87)\": \"WO 2023/287552\"}\n"
          ]
        },
        {
          "output_type": "stream",
          "name": "stderr",
          "text": [
            "Setting `pad_token_id` to `eos_token_id`:128001 for open-end generation.\n"
          ]
        },
        {
          "output_type": "stream",
          "name": "stdout",
          "text": [
            "PRED: {\"(19)\": \"INDIA\", \"(21)\": \"202327076165 A\", \"(22)\": \"2023-11-08\", \"(31)\": \"17/377100\", \"(32)\": \"2021-07-15\", \"(33)\": \"US\", \"(43)\": \"2024-04-19\", \"(51)\": \"H04L 5/00\", \"(54)\": \"MULTI -TRANSMITTER SCHEDULING USING SUB -SLOT BASED PHYSICAL SIDELINK SHARED CHANNELS\", \"(57)\": \"Wireless communications systems and metho ds related to communicating information are provided. A method of wireless communication performed by a user equipment (UE) may include mapping a sub -physical sidelink shared channel (sub -PSSCH), sidelink control information (SCI), and an automatic gain co ntrol (AGC) symbol to a sub -slot of a plurality of sub -slots of a slot and transmitting, to at least one other UE, a transport block via the sub -PSSCH of the sub -slot.    No. of Pages : 45  No. of Claims : 30\", \"(61)\": \"NA :NA\", \"(62)\": \"NA :NA\", \"(71)\": \"1)QUALCOMM INCORPORATED        Address of Applicant :Attn: International IP Administration 5775 M orehouse Drive San Diego, California 92121 -1714 U.S.A.\", \"(72)\": \"1)LIU, Chih -Hao    2)SUN, Jing     3)FONG, Lik Hang Silas     4)XUE, Yisheng     5)ZHANG, Xiaoxia     6)RYU, Jung Ho\", \"(86)\": \"PCT/US2022/034203  :21/06/2022\", \"(87)\": \"WO 2023/287552\"}\n",
            "score: 1.0 length: 1.0 seconds: 72.615234\n",
            "\n",
            "\n",
            "INPUT: (21) Application No.202317012706 A  (19) INDIA  (22) Date of filing of Application :24/02/2023  (43) Publication Date : 19/04/2024    (54) Title of the invention : STEERING WHEEL DEVICE FOR VEHICLE     (51) International classifi cation  :B62D 1/04, F16F 15/02, F16F 15/08, B60R 21/203  (31) Priority Document No  :2020 -144815  (32) Priority Date  :28/08/2020  (33) Name of priority country  :Japan  (86) International Application No          Filing Date  :PCT/JP2021/027859  :28/07/2021  (87) International Publication No  :WO 2022/044668  (61) Patent of Addition to Application Number          Filing Date  :NA :NA (62) Divisional to Application Number          Filing Date  :NA :NA    (71)Name of Applicant :     1)AUTOLIV DEVELOPMENT AB        Address of Applicant :22 Wallentinsvagen Vargarda 44783 Sweden  (72)Name of Inventor :     1)TANAKA Kaname     2)HONMA Keisuke     3)ABE Kazuhiro   (57) Abstract :  [Problem] To provide a steering wheel device for vehicles, which has a simple structure a nd which can effectively control low -frequency vibrations prompted on a steering wheel. [Solution] This steering wheel device for vehicles is configured to have a n air bag module 3 attached thereto by using engaging elements engaged with a steering wheel. The engaging elements each have an engaging portion that is provided to the air bag module side and that is to be disengageably engaged with an engagement -counterpart portion formed on the steering wheel side. The engaging elements include at least a first  engaging element 11 that is positioned at the lower side relative to the steering center C, when the neutral position of the steering wheel is regarded as the reference, and sec ond engaging elements 31 positioned at the upper side relative to the steering  center. The first engaging element is a vibration damping part that has an elastic member, and the second engaging elements each include a second bushing which is formed from a material with higher  Young's modulus than that of the elastic member.    No. of Pages : 17  No. of Claims : 9\n",
            "OUTPUT: {\"(19)\": \"INDIA\", \"(21)\": \"202317012706 A\", \"(22)\": \"2023-02-24\", \"(31)\": \"2020 -144815\", \"(32)\": \"2020-08-28\", \"(33)\": \"JP\", \"(43)\": \"2024-04-19\", \"(51)\": \"B62D 1/04, F16F 15/02, F16F 15/08, B60R 21/203\", \"(54)\": \"STEERING WHEEL DEVICE FOR VEHICLE\", \"(57)\": \"[Problem] To provide a steering wheel device for vehicles, which has a simple structure a nd which can effectively control low -frequency vibrations prompted on a steering wheel. [Solution] This steering wheel device for vehicles is configured to have a n air bag module 3 attached thereto by using engaging elements engaged with a steering wheel. The engaging elements each have an engaging portion that is provided to the air bag module side and that is to be disengageably engaged with an engagement -counterpart portion formed on the steering wheel side. The engaging elements include at least a first  engaging element 11 that is positioned at the lower side relative to the steering center C, when the neutral position of the steering wheel is regarded as the reference, and sec ond engaging elements 31 positioned at the upper side relative to the steering  center. The first engaging element is a vibration damping part that has an elastic member, and the second engaging elements each include a second bushing which is formed from a material with higher  Young's modulus than that of the elastic member.    No. of Pages : 17  No. of Claims : 9\", \"(61)\": \"NA :NA\", \"(62)\": \"NA :NA\", \"(71)\": \"1)AUTOLIV DEVELOPMENT AB        Address of Applicant :22 Wallentinsvagen Vargarda 44783 Sweden\", \"(72)\": \"1)TANAKA Kaname     2)HONMA Keisuke     3)ABE Kazuhiro\", \"(86)\": \"PCT/JP2021/027859  :28/07/2021\", \"(87)\": \"WO 2022/044668\"}\n"
          ]
        },
        {
          "output_type": "stream",
          "name": "stderr",
          "text": [
            "Setting `pad_token_id` to `eos_token_id`:128001 for open-end generation.\n"
          ]
        },
        {
          "output_type": "stream",
          "name": "stdout",
          "text": [
            "PRED: {\"(19)\": \"INDIA\", \"(21)\": \"202317012706 A\", \"(22)\": \"2023-02-24\", \"(31)\": \"2020-144815\", \"(32)\": \"2020-08-28\", \"(33)\": \"JP\", \"(43)\": \"2024-04-19\", \"(51)\": \"B62D 1/04, F16F 15/02, F16F 15/08, B60R 21/203\", \"(54)\": \"STEERING WHEEL DEVICE FOR VEHICLE\", \"(57)\": \"[Problem] To provide a steering wheel device for vehicles, which has a simple structure a nd which can effectively control low -frequency vibrations prompted on a steering wheel. [Solution] This steering wheel device for vehicles is configured to have a n air bag module 3 attached thereto by using engaging elements engaged with a steering wheel. The engaging elements each have an engaging portion that is provided to the air bag module side and that is to be disengageably engaged with an engagement -counterpart portion formed on the steering wheel side. The engaging elements include at least a first  engaging element 11 that is positioned at the lower side relative to the steering center C, when the neutral position of the steering wheel is regarded as the reference, and sec ond engaging elements 31 positioned at the upper side relative to the steering  center. The first engaging element is a vibration damping part that has an elastic member, and the second engaging elements each include a second bushing which is formed from a material with higher  Young's modulus than that of the elastic member.    No. of Pages : 17  No. of Claims : 9\", \"(61)\": \"NA :NA\", \"(62)\": \"NA :NA\", \"(71)\": \"1)AUTOLIV DEVELOPMENT AB        Address of Applicant :22 Wallentinsvagen Vargarda 44783 Sweden\", \"(72)\": \"1)TANAKA Kaname     2)HONMA Keisuke     3)ABE Kazuhiro\", \"(86)\": \"PCT/JP2021/027859  :28/07/2021\", \"(87)\": \"WO 2022/044668\"}\n",
            "score: 0.9997040544539805 length: 0.9994082840236687 seconds: 81.607752\n",
            "\n",
            "\n",
            "INPUT: (21) Application No.202327078458 A  (19) INDIA  (22) Date of filing of Application :18/11/2023  (43) Publication Date : 19/04/2024    (54) Title of the invention : ELECTRONIC DEVICE     (51) International classification  :H04M 1/02  (31) Priority Document No  :202110451686.6  (32) Priority Date  :26/04/2021  (33) Name of priority country  :China  (86) International Application No          Filing Date  :PCT/CN2022/088 087  :21/04/2022  (87) International Publication No  :WO 2022/228258  (61) Patent of Addition to Application Number          Filing Date  :NA :NA (62) Divisional to Application Number          Filing Date  :NA :NA    (71)Name of Applicant :     1)VIVO MOBI LE COMMUNICATION CO., LTD.        Address of Applicant :No.1, vivo Road, Chang'an, Dongguan, Guangdong 523863 China  (72)Name of Inventor :     1)LI, Lele   (57) Abstract :  Disclosed is an electronic device, comprising a device housing and a sound producti on module, wherein the device housing comprises a first housing portion and a second housing portion; the first housing portion is movably arranged on the second housing por tion, so as to switch the electronic device between a first state and a second stat e; the sound production module is arranged on one of the first housing portion and the second housing portion; the sound production module is provided with a first rear cavity and a first connection hole in communication with the first rear cavity; and the  electronic device can form a second rear cavity. In the first state, the first rear cavity is in communication with the second rear cavity by means of the first connection hole; in the second state, the first connection hole is blocked; and one of the fir st state and the second state is an unfolded state, and the other one of the first state and the second state is a contracted state.     No. of Pages : 16  No. of Claims : 13\n",
            "OUTPUT: {\"(19)\": \"INDIA\", \"(21)\": \"202327078458 A\", \"(22)\": \"2023-11-18\", \"(31)\": \"202110451686.6\", \"(32)\": \"2021-04-26\", \"(33)\": \"CN\", \"(43)\": \"2024-04-19\", \"(51)\": \"H04M 1/02\", \"(54)\": \"ELECTRONIC DEVICE\", \"(57)\": \"Disclosed is an electronic device, comprising a device housing and a sound producti on module, wherein the device housing comprises a first housing portion and a second housing portion; the first housing portion is movably arranged on the second housing por tion, so as to switch the electronic device between a first state and a second stat e; the sound production module is arranged on one of the first housing portion and the second housing portion; the sound production module is provided with a first rear cavity and a first connection hole in communication with the first rear cavity; and the  electronic device can form a second rear cavity. In the first state, the first rear cavity is in communication with the second rear cavity by means of the first connection hole; in the second state, the first connection hole is blocked; and one of the fir st state and the second state is an unfolded state, and the other one of the first state and the second state is a contracted state.     No. of Pages : 16  No. of Claims : 13\", \"(61)\": \"NA :NA\", \"(62)\": \"NA :NA\", \"(71)\": \"1)VIVO MOBI LE COMMUNICATION CO., LTD.        Address of Applicant :No.1, vivo Road, Chang'an, Dongguan, Guangdong 523863 China\", \"(72)\": \"1)LI, Lele\", \"(86)\": \"PCT/CN2022/088 087  :21/04/2022\", \"(87)\": \"WO 2022/228258\"}\n"
          ]
        },
        {
          "output_type": "stream",
          "name": "stderr",
          "text": [
            "Setting `pad_token_id` to `eos_token_id`:128001 for open-end generation.\n"
          ]
        },
        {
          "output_type": "stream",
          "name": "stdout",
          "text": [
            "PRED: {\"(19)\": \"INDIA\", \"(21)\": \"202327078458 A\", \"(22)\": \"2023-11-18\", \"(31)\": \"202110451686.6\", \"(32)\": \"2021-04-26\", \"(33)\": \"CN\", \"(43)\": \"2024-04-19\", \"(51)\": \"H04M 1/02\", \"(54)\": \"ELECTRONIC DEVICE\", \"(57)\": \"Disclosed is an electronic device, comprising a device housing and a sound producti on module, wherein the device housing comprises a first housing portion and a second housing portion; the first housing portion is movably arranged on the second housing por tion, so as to switch the electronic device between a first state and a second stat e; the sound production module is arranged on one of the first housing portion and the second housing portion; the sound production module is provided with a first rear cavity and a first connection hole in communication with the first rear cavity; and the  electronic device can form a second rear cavity. In the first state, the first rear cavity is in communication with the second rear cavity by means of the first connection hole; in the second state, the first connection hole is blocked; and one of the fir st state and the second state is an unfolded state, and the other one of the first state and the second state is a contracted state.     No. of Pages : 16  No. of Claims : 13\", \"(61)\": \"NA :NA\", \"(62)\": \"NA :NA\", \"(71)\": \"1)VIVO MOBI LE COMMUNICATION CO., LTD.        Address of Applicant :No.1, vivo Road, Chang'an, Dongguan, Guangdong 523863 China\", \"(72)\": \"1)LI, Lele\", \"(86)\": \"PCT/CN2022/088 087  :21/04/2022\", \"(87)\": \"WO 2022/228258\"}\n",
            "score: 1.0 length: 1.0 seconds: 74.177622\n",
            "\n",
            "\n",
            "INPUT: (21) Application No.202317011936 A  (19) INDIA  (22) Date of filing of Application :22/02/2023  (43) Publication Date : 19/04/2024    (54) Title of the invention : METHOD FOR PREPARING ALKY L-D-ALANINATE     (51) International classification  :C07C 213/06, C07C 213/10, C07C 213/02, C07C 219/32  (31) Priority Document No  :10-2020 -0115468  (32) Priority Date  :09/09/2020  (33) Name of priority country  :Republic of Korea  (86) International Application No          Filing Date  :PCT/KR2021/012254  :09/09/2021  (87) International Publication No  :WO 2022/055267  (61) Patent of Addition to Application Number          Filing Date  :NA :NA (62) Divisional to Application Number          Filing Date  :NA :NA    (71)Name of Applicant :     1)LG CHEM, LTD.        Address of Applicant :128, Yeoui -daero, Yeongdeungpo -gu, Seoul 07336 Republic of Korea     2)FARMHANNONG CO., LTD.  (72)Name of Inventor :     1)KANG, Myoungku     2)LEE, Kyungwon     3)AHN, Byunghoo n    4)CHO, Jaiha     5)LEE, Wonjae     6)JEONG, Dae Youn     7)SEO, Yongsik     8)ROH, Sang Weon   (57) Abstract :  The present specification relates to a method for preparing alkyl -D-alaninate, the method comprising a step for supplying an inert gas into a reaction solution when using aniline to synthesize alkyl -D-alaninate.    No. of Pages : 18  No. of Claims : 3\n",
            "OUTPUT: {\"(19)\": \"INDIA\", \"(21)\": \"202317011936 A\", \"(22)\": \"2023-02-22\", \"(31)\": \"10-2020 -0115468\", \"(32)\": \"2020-09-09\", \"(33)\": \"KR\", \"(43)\": \"2024-04-19\", \"(51)\": \"C07C 213/06, C07C 213/10, C07C 213/02, C07C 219/32\", \"(54)\": \"METHOD FOR PREPARING ALKY L-D-ALANINATE\", \"(57)\": \"The present specification relates to a method for preparing alkyl -D-alaninate, the method comprising a step for supplying an inert gas into a reaction solution when using aniline to synthesize alkyl -D-alaninate.    No. of Pages : 18  No. of Claims : 3\", \"(61)\": \"NA :NA\", \"(62)\": \"NA :NA\", \"(71)\": \"1)LG CHEM, LTD.        Address of Applicant :128, Yeoui -daero, Yeongdeungpo -gu, Seoul 07336 Republic of Korea     2)FARMHANNONG CO., LTD.\", \"(72)\": \"1)KANG, Myoungku     2)LEE, Kyungwon     3)AHN, Byunghoo n    4)CHO, Jaiha     5)LEE, Wonjae     6)JEONG, Dae Youn     7)SEO, Yongsik     8)ROH, Sang Weon\", \"(86)\": \"PCT/KR2021/012254  :09/09/2021\", \"(87)\": \"WO 2022/055267\"}\n"
          ]
        },
        {
          "output_type": "stream",
          "name": "stderr",
          "text": [
            "You seem to be using the pipelines sequentially on GPU. In order to maximize efficiency please use a dataset\n",
            "Setting `pad_token_id` to `eos_token_id`:128001 for open-end generation.\n"
          ]
        },
        {
          "output_type": "stream",
          "name": "stdout",
          "text": [
            "PRED: {\"(19)\": \"INDIA\", \"(21)\": \"202317011936 A\", \"(22)\": \"2023-02-22\", \"(31)\": \"10-2020 -0115468\", \"(32)\": \"2020-09-09\", \"(33)\": \"KR\", \"(43)\": \"2024-04-19\", \"(51)\": \"C07C 213/06, C07C 213/10, C07C 213/02, C07C 219/32\", \"(54)\": \"METHOD FOR PREPARING ALKY L-D-ALANINATE\", \"(57)\": \"The present specification relates to a method for preparing alkyl -D-alaninate, the method comprising a step for supplying an inert gas into a reaction solution when using aniline to synthesize alkyl -D-alaninate.    No. of Pages : 18  No. of Claims : 3\", \"(61)\": \"NA :NA\", \"(62)\": \"NA :NA\", \"(71)\": \"1)LG CHEM, LTD.        Address of Applicant :128, Yeoui -daero, Yeongdeungpo -gu, Seoul 07336 Republic of Korea     2)FARMHANNONG CO., LTD.\", \"(72)\": \"1)KANG, Myoungku     2)LEE, Kyungwon     3)AHN, Byunghoo n    4)CHO, Jaiha     5)LEE, Wonjae     6)JEONG, Dae Youn     7)SEO, Yongsik     8)ROH, Sang Weon\", \"(86)\": \"PCT/KR2021/012254  :09/09/2021\", \"(87)\": \"WO 2022/055267\"}\n",
            "score: 1.0 length: 1.0 seconds: 70.457377\n",
            "\n",
            "\n",
            "INPUT: (21) Application No.202317009407 A  (19) INDIA  (22) Date of filing of Application :13/02/2023  (43) Publication Date : 19/04/2024    (54) Title of the invention : METHOD AND APPARATUS FOR T RANSMITTING/RECEIVING SIGNAL FOR GROUPCAST IN WIRELESS COMMUNICATION SYSTEM     (51) International classification  :H04L 1/18, H04L 5/00, H04W 4/06, H04W 72/12  (31) Priority Document No  :10-2020 -0098234  (32) Priority Date  :05/08/2020  (33) Name of pr iority country  :Republic of Korea  (86) International Application No          Filing Date  :PCT/KR2021/009303  :20/07/2021  (87) International Publication No  :WO 2022/030813  (61) Patent of Addition to Application Number          Filing Date  :NA :NA (62) Divisional to Application Number          Filing Date  :NA :NA    (71)Name of Applicant :     1)SAMSUNG ELECTRONICS CO., LTD.        Address of Applicant :129, Samsung -ro, Yeongtong -gu Suwon -si Gyeonggi -do 16677 Republic of Korea  (72)Name of Inventor :     1)YEO, Jeongho     2)KIM, Youngbum     3)BAE, Taehan     4)PARK, Sungjin     5)SHIN, Cheolkyu   (57) Abstract :  The present disclosure relates to a 5G or 6G communication system for supporting a higher data transmission rate than a 4G communication system su ch as LTE. According to various embodiments of the present disclosure, a method performed by a transmission apparatus in a wireless communication system may be provided. The method may comprise the steps of: transmitting , via a physical downlink control ch annel (PDCCH), first control information for scheduling a group common -physical downlink shared channel (GC -PDSCH) via which multicast data is transmitted, including information related to hybrid automatic repeat request (HARQ) feedback for the multicast d ata; and transmitting, via the PDCCH, second control information for scheduling a physical downlink shared channel (PDSCH) via which unicast data is transmitted, including information related to HARQ feedback for the  unicast data.    No. of Pages : 80  No. of Claims : 15\n",
            "OUTPUT: {\"(19)\": \"INDIA\", \"(21)\": \"202317009407 A\", \"(22)\": \"2023-02-13\", \"(31)\": \"10-2020 -0098234\", \"(32)\": \"2020-08-05\", \"(33)\": \"KR\", \"(43)\": \"2024-04-19\", \"(51)\": \"H04L 1/18, H04L 5/00, H04W 4/06, H04W 72/12\", \"(54)\": \"METHOD AND APPARATUS FOR T RANSMITTING/RECEIVING SIGNAL FOR GROUPCAST IN WIRELESS COMMUNICATION SYSTEM\", \"(57)\": \"The present disclosure relates to a 5G or 6G communication system for supporting a higher data transmission rate than a 4G communication system su ch as LTE. According to various embodiments of the present disclosure, a method performed by a transmission apparatus in a wireless communication system may be provided. The method may comprise the steps of: transmitting , via a physical downlink control ch annel (PDCCH), first control information for scheduling a group common -physical downlink shared channel (GC -PDSCH) via which multicast data is transmitted, including information related to hybrid automatic repeat request (HARQ) feedback for the multicast d ata; and transmitting, via the PDCCH, second control information for scheduling a physical downlink shared channel (PDSCH) via which unicast data is transmitted, including information related to HARQ feedback for the  unicast data.    No. of Pages : 80  No. of Claims : 15\", \"(61)\": \"NA :NA\", \"(62)\": \"NA :NA\", \"(71)\": \"1)SAMSUNG ELECTRONICS CO., LTD.        Address of Applicant :129, Samsung -ro, Yeongtong -gu Suwon -si Gyeonggi -do 16677 Republic of Korea\", \"(72)\": \"1)YEO, Jeongho     2)KIM, Youngbum     3)BAE, Taehan     4)PARK, Sungjin     5)SHIN, Cheolkyu\", \"(86)\": \"PCT/KR2021/009303  :20/07/2021\", \"(87)\": \"WO 2022/030813\"}\n"
          ]
        },
        {
          "output_type": "stream",
          "name": "stderr",
          "text": [
            "Setting `pad_token_id` to `eos_token_id`:128001 for open-end generation.\n"
          ]
        },
        {
          "output_type": "stream",
          "name": "stdout",
          "text": [
            "PRED: {\"(19)\": \"INDIA\", \"(21)\": \"202317009407 A\", \"(22)\": \"2023-02-13\", \"(31)\": \"10-2020 -0098234\", \"(32)\": \"2020-08-05\", \"(33)\": \"Republic of Korea\", \"(43)\": \"2024-04-19\", \"(51)\": \"H04L 1/18, H04L 5/00, H04W 4/06, H04W 72/12\", \"(54)\": \"METHOD AND APPARATUS FOR T RANSMITTING/RECEIVING SIGNAL FOR GROUPCAST IN WIRELESS COMMUNICATION SYSTEM\", \"(57)\": \"The present disclosure relates to a 5G or 6G communication system for supporting a higher data transmission rate than a 4G communication system su ch as LTE. According to various embodiments of the present disclosure, a method performed by a transmission apparatus in a wireless communication system may be provided. The method may comprise the steps of: transmitting, via a physical downlink control ch annel (PDCCH), first control information for scheduling a group common -physical downlink shared channel (GC -PDSCH) via which multicast data is transmitted, including information related to hybrid automatic repeat request (HARQ) feedback for the multicast d ata; and transmitting, via the PDCCH, second control information for scheduling a physical downlink shared channel (PDSCH) via which unicast data is transmitted, including information related to HARQ feedback for the  unicast data.    No. of Pages : 80  No. of Claims : 15\", \"(61)\": \"NA :NA\", \"(62)\": \"NA :NA\", \"(71)\": \"1)SAMSUNG ELECTRONICS CO., LTD.        Address of Applicant :129, Samsung -ro, Yeongtong -gu Suwon -si Gyeonggi -do 16677 Republic of Korea\", \"(72)\": \"1)YEO, Jeongho     2)KIM, Youngbum     3)BAE, Taehan     4)PARK, Sungjin     5)SHIN, Cheolkyu\", \"(86)\": \"PCT/KR2021/009303  :20/07/2021\", \"(87)\": \"WO 2022/030813\"}\n",
            "score: 0.9944954128440368 length: 1.0085995085995085 seconds: 85.268927\n",
            "\n",
            "\n",
            "INPUT: (21) Application No.202314013164 A  (19) INDIA  (22) Date of filing of Application :27/02/2023  (43) Publication Date : 19/04/2024    (54) Title of the invention : CONVOLUTE FOR A BELLOWS OF A GANG WAY AND BELLOWS OF A GANGWAY     (51) International classification  :G06T0011200000, B62D0015020000, H01M0010040000, B01D0046100000, G06F0009540000  (31) Priority Document No  :22275029.1  (32) Priority Date  :11/03/2022  (33) Name of priority country  :EPO  (86) International Application No          Filing Date  :NA :NA (87) International Publication No  : NA  (61) Patent of Addition to Application Number          Filing Date  :NA :NA (62) Divisional to Application Number          Filing Date  :NA :NA    (71)Name of Applicant :     1)DELLNER COUPLERS AB        Address of Applicant :Vikavägen 144, 79195 Falun, SWEDEN Sweden  (72)Name of Inventor :     1)ALTON, Daniel     2)BRITTAIN, Daniel   (57) Abstract :  ABSTRACT CONVOLUTE FOR A BELLOWS OF A GANGWAY AND BELLOWS OF A GANGWAY Convolute (for a bellows of a gangway, the convolute comprising • a first rim and a second rim arranged next to the first rim, • a sheet like convolut e material that extends from the first rim to the second rim, whereby in an operation al position of the convolute, the convolute material takes up a trough -shaped form between the first rim and the second rim, • a drainage hole in the convolute material, • a closure to close the drainage hole, characterized by a drainage control band, wher eby the closure forms part of the drainage control band or is attached to the drainage control band, whereby • a first band point of the drainage control band is attached to or rests on a first convo lute point, whereby the first convolute point is located on the first rim or on the convolute material, but closer to the first rim than to the second rim, and • a second band point of the drainage control band is attached to or rests on a second convolute point, whereby the second convolute poin is located on t he second rim or on the convolute material, but closer to the second rim than to the first rim, • whereby the length L1 of a minimum length band path, said minimum length band path being the path with the shortest length that can b e taken from the first ba nd point to the second band poin while always staying in contact with or leading through the drainage control band, is smaller than the length L2 of a minimum length convolute path, said minimum length convolute path being the path with the sho rtest length  that can be taken from the first convolute point to the second convolute point while always staying in contact with or leadin g through the convolute material.    No. of Pages : 31  No. of Claims : 13\n",
            "OUTPUT: {\"(19)\": \"INDIA\", \"(21)\": \"202314013164 A\", \"(22)\": \"2023-02-27\", \"(31)\": \"22275029.1\", \"(32)\": \"2022-03-11\", \"(33)\": \"EP\", \"(43)\": \"2024-04-19\", \"(51)\": \"G06T0011200000, B62D0015020000, H01M0010040000, B01D0046100000, G06F0009540000\", \"(54)\": \"CONVOLUTE FOR A BELLOWS OF A GANG WAY AND BELLOWS OF A GANGWAY\", \"(57)\": \"ABSTRACT CONVOLUTE FOR A BELLOWS OF A GANGWAY AND BELLOWS OF A GANGWAY Convolute (for a bellows of a gangway, the convolute comprising \\u2022 a first rim and a second rim arranged next to the first rim, \\u2022 a sheet like convolut e material that extends from the first rim to the second rim, whereby in an operation al position of the convolute, the convolute material takes up a trough -shaped form between the first rim and the second rim, \\u2022 a drainage hole in the convolute material, \\u2022 a closure to close the drainage hole, characterized by a drainage control band, wher eby the closure forms part of the drainage control band or is attached to the drainage control band, whereby \\u2022 a first band point of the drainage control band is attached to or rests on a first convo lute point, whereby the first convolute point is located on the first rim or on the convolute material, but closer to the first rim than to the second rim, and \\u2022 a second band point of the drainage control band is attached to or rests on a second convolute point, whereby the second convolute poin is located on t he second rim or on the convolute material, but closer to the second rim than to the first rim, \\u2022 whereby the length L1 of a minimum length band path, said minimum length band path being the path with the shortest length that can b e taken from the first ba nd point to the second band poin while always staying in contact with or leading through the drainage control band, is smaller than the length L2 of a minimum length convolute path, said minimum length convolute path being the path with the sho rtest length  that can be taken from the first convolute point to the second convolute point while always staying in contact with or leadin g through the convolute material.    No. of Pages : 31  No. of Claims : 13\", \"(61)\": \"NA :NA\", \"(62)\": \"NA :NA\", \"(71)\": \"1)DELLNER COUPLERS AB        Address of Applicant :Vikav\\u00e4gen 144, 79195 Falun, SWEDEN Sweden\", \"(72)\": \"1)ALTON, Daniel     2)BRITTAIN, Daniel\", \"(86)\": \"NA :NA\", \"(87)\": \"NA\"}\n"
          ]
        },
        {
          "output_type": "stream",
          "name": "stderr",
          "text": [
            "Setting `pad_token_id` to `eos_token_id`:128001 for open-end generation.\n"
          ]
        },
        {
          "output_type": "stream",
          "name": "stdout",
          "text": [
            "PRED: {\"(19)\": \"INDIA\", \"(21)\": \"202314013164 A\", \"(22)\": \"2023-02-27\", \"(31)\": \"22275029.1\", \"(32)\": \"2022-03-11\", \"(33)\": \"EPO\", \"(43)\": \"2024-04-19\", \"(51)\": \"G06T0011200000, B62D0015020000, H01M0010040000, B01D0046100000, G06F0009540000\", \"(54)\": \"CONVOLUTE FOR A BELLOWS OF A GANG WAY AND BELLOWS OF A GANGWAY\", \"(57)\": \"ABSTRACT CONVOLUTE FOR A BELLOWS OF A GANGWAY AND BELLOWS OF A GANGWAY Convolute (for a bellows of a gangway, the convolute comprising • a first rim and a second rim arranged next to the first rim, • a sheet like convolut e material that extends from the first rim to the second rim, whereby in an operation al position of the convolute, the convolute material takes up a trough -shaped form between the first rim and the second rim, • a drainage hole in the convolute material, • a closure to close the drainage hole, characterized by a drainage control band, wher eby the closure forms part of the drainage control band or is attached to the drainage control band, whereby • a first band point of the drainage control band is attached to or rests on a first convo lute point, whereby the first convolute point is located on the first rim or on the convolute material, but closer to the first rim than to the second rim, and • a second band point of the drainage control band is attached to or rests on a second convolute point, whereby the second convolute poin is located on t he second rim or on the convolute material, but closer to the second rim than to the first rim, • whereby the length L1 of a minimum length band path, said minimum length band path being the path with the shortest length that can b e taken from the first ba nd point to the second band poin while always staying in contact with or leading through the drainage control band, is smaller than the length L2 of a minimum length convolute path, said minimum length convolute path being the path with the sho rtest length  that can be taken from the first convolute point to the second convolute point while always staying in contact with or leadin g through the convolute material.    No. of Pages : 31  No. of Claims : 13\", \"(61)\": \"NA :NA\", \"(62)\": \"NA :NA\", \"(71)\": \"1)DELLNER COUPLERS AB        Address of Applicant :Vikavägen 144, 79195 Falun, SWEDEN Sweden\", \"(72)\": \"1)ALTON, Daniel     2)BRITTAIN, Daniel\", \"(86)\": \"NA :NA\", \"(87)\": \"NA\"}\n",
            "score: 0.9879262868036432 length: 0.9836134453781512 seconds: 103.250581\n",
            "\n",
            "\n",
            "INPUT: (21) Application No.202221058700 A  (19) INDIA  (22) Date of filing of Application  :14/10/2022  (43) Publication Date : 19/04/2024    (54) Title of the invention : A ROTOGRAVURE CUM DIGITAL PRINTING MACHINE AND PROCESS OF CONVERTING ROTOGRAVURE TO ROTOGRAVURE CUM DIGITAL PRINTING MACHINE     (51) International classification  :B41F00091 00000, B41J0003407000, G06K0015020000, B41F0009060000, B41N0001200000  (31) Priority Document No  :NA (32) Priority Date  :NA (33) Name of priority country  :NA (86) International Application No          Filing Date  :NA :NA (87) International Publicati on No  : NA  (61) Patent of Addition to Application Number          Filing Date  :NA :NA (62) Divisional to Application Number          Filing Date  :NA :NA    (71)Name of Applicant :     1)VACHHANI BHAVESH MAGANLAL        Address of Applicant :11, Shantiku nj Society, Opp. P. F. Office, Akota, Gujarat, India Gujarat India  (72)Name of Inventor :     1)VACHHANI BHAVESH MAGANLAL   (57) Abstract :  ABSTRACT A ROTOGRAVURE CUM DIGITAL PRINTING MACHINE AND PROCESS OF CONVERTING ROTOGRAVURE TO ROTOGRAVURE CUM DIGIT AL PRINTING MACHINE. The present invention relates to a rotogravure cum digital printing machine. More preferably, invention relates to rotogravure cum digital inkjet printing machine. The present invention also re lates to a process of converting rotogravu re printing machine into rotogravure cum digital inkjet printing machine, wherein process comprises installing a digital inkjet print engine bar with digital inkjet print heads (33), inkjet printheads auto cleaning system (34 ), cross and linear print regis tration system for the digital inkjet print engine bar (43), electrical and electronics control panel with DCS (Digital control systems)   PLC’s (Programmable logic controllers) computer and softwares (44) into a rotogravure printing machine.    No. o f Pages : 25  No. of Claims : 15\n",
            "OUTPUT: {\"(19)\": \"INDIA\", \"(21)\": \"202221058700 A\", \"(22)\": \"2022-10-14\", \"(31)\": \"NA\", \"(32)\": \"NA\", \"(33)\": \"IN\", \"(43)\": \"2024-04-19\", \"(51)\": \"B41F00091 00000, B41J0003407000, G06K0015020000, B41F0009060000, B41N0001200000\", \"(54)\": \"A ROTOGRAVURE CUM DIGITAL PRINTING MACHINE AND PROCESS OF CONVERTING ROTOGRAVURE TO ROTOGRAVURE CUM DIGITAL PRINTING MACHINE\", \"(57)\": \"ABSTRACT A ROTOGRAVURE CUM DIGITAL PRINTING MACHINE AND PROCESS OF CONVERTING ROTOGRAVURE TO ROTOGRAVURE CUM DIGIT AL PRINTING MACHINE. The present invention relates to a rotogravure cum digital printing machine. More preferably, invention relates to rotogravure cum digital inkjet printing machine. The present invention also re lates to a process of converting rotogravu re printing machine into rotogravure cum digital inkjet printing machine, wherein process comprises installing a digital inkjet print engine bar with digital inkjet print heads\", \"(61)\": \"NA :NA\", \"(62)\": \"NA :NA\", \"(71)\": \"1)VACHHANI BHAVESH MAGANLAL        Address of Applicant :11, Shantiku nj Society, Opp. P. F. Office, Akota, Gujarat, India Gujarat India\", \"(72)\": \"1)VACHHANI BHAVESH MAGANLAL\", \"(86)\": \"NA :NA\", \"(87)\": \"NA\"}\n"
          ]
        },
        {
          "output_type": "stream",
          "name": "stderr",
          "text": [
            "Setting `pad_token_id` to `eos_token_id`:128001 for open-end generation.\n"
          ]
        },
        {
          "output_type": "stream",
          "name": "stdout",
          "text": [
            "PRED: {\"(19)\": \"INDIA\", \"(21)\": \"202221058700 A\", \"(22)\": \"2022-10-14\", \"(43)\": \"2024-04-19\", \"(51)\": \"B41F00091 00000, B41J0003407000, G06K0015020000, B41F0009060000, B41N0001200000\", \"(54)\": \"A ROTOGRAVURE CUM DIGITAL PRINTING MACHINE AND PROCESS OF CONVERTING ROTOGRAVURE TO ROTOGRAVURE CUM DIGITAL PRINTING MACHINE\", \"(57)\": \"ABSTRACT A ROTOGRAVURE CUM DIGITAL PRINTING MACHINE AND PROCESS OF CONVERTING ROTOGRAVURE TO ROTOGRAVURE CUM DIGIT AL PRINTING MACHINE. The present invention relates to a rotogravure cum digital printing machine. More preferably, invention relates to rotogravure cum digital inkjet printing machine. The present invention also re lates to a process of converting rotogravu re printing machine into rotogravure cum digital inkjet printing machine, wherein process comprises installing a digital inkjet print engine bar with digital inkjet print heads (33), inkjet printheads auto cleaning system (34 ), cross and linear print regis tration system for the digital inkjet print engine bar (43), electrical and electronics control panel with DCS (Digital control systems)   PLC’s (Programmable logic controllers) computer and softwares (44) into a rotogravure printing machine.    No. o f Pages : 25  No. of Claims : 15\", \"(61)\": \"NA :NA\", \"(62)\": \"NA :NA\", \"(71)\": \"1)VACHHANI BHAVESH MAGANLAL        Address of Applicant :11, Shantiku nj Society, Opp. P. F. Office, Akota, Gujarat, India Gujarat India\", \"(72)\": \"1)VACHHANI BHAVESH MAGANLAL\", \"(86)\": \"NA :NA\", \"(87)\": \"NA\"}\n",
            "score: 0.28335832083958024 length: 1.2764505119453924 seconds: 77.71219\n",
            "\n",
            "\n",
            "INPUT: (21) Application  No.202318013291 A  (19) INDIA  (22) Date of filing of Application :27/02/2023  (43) Publication Date : 19/04/2024    (54) Title of the invention : METHOD FOR IDENTIFYING THRUST COUNTERFORCE WORKING POINT POSITIONS AND METHOD FOR ROLLING ROLLED MATERIAL     (51) International classification  :B21B 37/00, B21B 37/28, B21B 37/38, B21B 37/58, B21B 37/68, B21B 38/00, B21B 38/08, B21C 51/00  (31) Priority Document No  :2018 -152179  (32) Priority Date  :13/08/2018  (33) Name of priority country  :Japan  (86) In ternational Application No          Filing Date  :PCT/JP2019/031437  :08/08/2019  (87) International Publication No  : NA  (61) Patent of Addition to Application Number          Filing Date  :NA :NA (62) Divisional to Application Number          Filed on  :202117008919  :03/03/2021     (71)Name of Applicant :     1)Nippon Steel Corporation        Address of Applicant :6 -1, Marunouchi 2 -chome, Chiyoda -ku, Tokyo 100 -8071, Japan Japan  (72)Name of Inventor :     1)YAMAGUCHI, Kazuma     2)ISHII, Atsushi     3)NIKKUNI,  Daisuke   (57) Abstract :  There is provided a method for identifying thrust counterforce working point positions of backup rolls of a rolling mill of f our-high or more, the method including: a step of changing at least either friction coefficients and i nter-roll cross angles between the rolls with an unchanged kiss roll load to cause thrust forces at a plurality of levels to act between the rolls, and measuring thrust count erforces in a roll-axis direction acting on 10 rolls forming at least one of roll pairs other than a roll pair of the backup rolls and measuring backup roll counterforces acting in a vertical direction on the backup rolls at reduction support positions at the plurality of leve ls of thrust force in a kiss roll state; and a step of identi fying, based on the measured thrust counterforces acting on the rolls, thrust counterforce working point positions of thrust counterforces acting on the 15 backup rolls, using first equilibrium conditional expression s relating to forces acting on the rolls  and second equilibrium conditional expressions relating to moments acting on the rolls.    No. of Pages : 111  No. of Claims : 6\n",
            "OUTPUT: {\"(19)\": \"INDIA\", \"(21)\": \"202318013291 A\", \"(22)\": \"2023-02-27\", \"(31)\": \"2018 -152179\", \"(32)\": \"2018-08-13\", \"(33)\": \"JP\", \"(43)\": \"2024-04-19\", \"(51)\": \"B21B 37/00, B21B 37/28, B21B 37/38, B21B 37/58, B21B 37/68, B21B 38/00, B21B 38/08, B21C 51/00\", \"(54)\": \"METHOD FOR IDENTIFYING THRUST COUNTERFORCE WORKING POINT POSITIONS AND METHOD FOR ROLLING ROLLED MATERIAL\", \"(57)\": \"There is provided a method for identifying thrust counterforce working point positions of backup rolls of a rolling mill of f our-high or more, the method including: a step of changing at least either friction coefficients and i nter-roll cross angles between the rolls with an unchanged kiss roll load to cause thrust forces at a plurality of levels to act between the rolls, and measuring thrust count erforces in a roll-axis direction acting on 10 rolls forming at least one of roll pairs other than a roll pair of the backup rolls and measuring backup roll counterforces acting in a vertical direction on the backup rolls at reduction support positions at the plurality of leve ls of thrust force in a kiss roll state; and a step of identi fying, based on the measured thrust counterforces acting on the rolls, thrust counterforce working point positions of thrust counterforces acting on the 15 backup rolls, using first equilibrium conditional expression s relating to forces acting on the rolls  and second equilibrium conditional expressions relating to moments acting on the rolls.    No. of Pages : 111  No. of Claims : 6\", \"(61)\": \"NA :NA\", \"(62)\": \"Filed on  :202117008919  :03/03/2021\", \"(71)\": \"1)Nippon Steel Corporation        Address of Applicant :6 -1, Marunouchi 2 -chome, Chiyoda -ku, Tokyo 100 -8071, Japan Japan\", \"(72)\": \"1)YAMAGUCHI, Kazuma     2)ISHII, Atsushi     3)NIKKUNI,  Daisuke\", \"(86)\": \"PCT/JP2019/031437  :08/08/2019\", \"(87)\": \"NA\"}\n"
          ]
        },
        {
          "output_type": "stream",
          "name": "stderr",
          "text": [
            "Setting `pad_token_id` to `eos_token_id`:128001 for open-end generation.\n"
          ]
        },
        {
          "output_type": "stream",
          "name": "stdout",
          "text": [
            "PRED: {\"(19)\": \"INDIA\", \"(21)\": \"202318013291 A\", \"(22)\": \"2023-02-27\", \"(31)\": \"2018-152179\", \"(32)\": \"2018-08-13\", \"(33)\": \"JP\", \"(43)\": \"2024-04-19\", \"(51)\": \"B21B 37/00, B21B 37/28, B21B 37/38, B21B 37/58, B21B 37/68, B21B 38/00, B21B 38/08, B21C 51/00\", \"(54)\": \"METHOD FOR IDENTIFYING THRUST COUNTERFORCE WORKING POINT POSITIONS AND METHOD FOR ROLLING ROLLED MATERIAL\", \"(57)\": \"There is provided a method for identifying thrust counterforce working point positions of backup rolls of a rolling mill of f our-high or more, the method including: a step of changing at least either friction coefficients and i nter-roll cross angles between the rolls with an unchanged kiss roll load to cause thrust forces at a plurality of levels to act between the rolls, and measuring thrust count erforces in a roll-axis direction acting on 10 rolls forming at least one of roll pairs other than a roll pair of the backup rolls and measuring backup roll counterforces acting in a vertical direction on the backup rolls at reduction support positions at the plurality of leve ls of thrust force in a kiss roll state; and a step of identi fying, based on the measured thrust counterforces acting on the rolls, thrust counterforce working point positions of thrust counterforces acting on the 15 backup rolls, using first equilibrium conditional expression s relating to forces acting on the rolls  and second equilibrium conditional expressions relating to moments acting on the rolls.    No. of Pages : 111  No. of Claims : 6\", \"(61)\": \"NA :NA\", \"(62)\": \"202117008919 :03/03/2021\", \"(71)\": \"1)Nippon Steel Corporation        Address of Applicant :6 -1, Marunouchi 2 -chome, Chiyoda -ku, Tokyo 100 -8071, Japan Japan\", \"(72)\": \"1)YAMAGUCHI, Kazuma     2)ISHII, Atsushi     3)NIKKUNI,  Daisuke\", \"(86)\": \"PCT/JP2019/031437  :08/08/2019\", \"(87)\": \"NA\"}\n",
            "score: 0.9964683509915784 length: 0.9929615592853276 seconds: 89.668064\n",
            "\n",
            "\n",
            "INPUT: (21) Application No.202317010746 A  (19) INDIA  (22) Date of filing of Application :17/02/2023  (43) Publication Date : 19/04/2024    (54) Title of t he invention : NEGATIVE ELECTRODE FOR SECONDARY BATTERY, COMPRISING ACTIVE MATERIAL LAYERS HAVING DIFFERENT COMPOSITIONS, AND ELECTRODE ASSEMBLY AND SECONDARY BATTERY COMPRISING SAME     (51) International classification  :H01M 4/133, H01M 4/62, H01M 10/0 525 (31) Priority Document No  :10-2021 -0091135  (32) Priority Date  :12/07/2021  (33) Name of priority country  :Republic of Korea  (86) International Application No          Filing Date  :PCT/KR2022/009475  :30/06/2022  (87) International Publication No  :WO 2023/287076  (61) Patent of Addition to Application Number          Filing Date  :NA :NA (62) Divisional to Application Number          Filing Date  :NA :NA    (71)Name of Applicant :     1)LG ENERGY SOLUTION, LTD.        Address of Applicant :Tower 1,  108, Yeoui -daero, Yeongdeungpo -gu, Seoul 07335 Republic of Korea  (72)Name of Inventor :     1)NOH, Taegyun   (57) Abstract :  The present invention relates to: a secondary battery negative electrode in which a negative electrode active material layer is formed on at least one surface of a negative electrode current collector; and an electrode assembly and a secondary battery comprisi ng same, the negative electrode active material layer comprising a planar first negative electrode active material layer and  a second negative electrode active material layer formed on one or both surfaces of the first negative electrode active material layer, wherein  the first negative electrode active material layer comprises uncoated graphite as a first negative electrode ac tive material, and the second negative electrode active material layer comprises carbon -coated graphite as a second negative electrode active material.    No. of Pages : 17  No. of Claims : 12\n",
            "OUTPUT: {\"(19)\": \"INDIA\", \"(21)\": \"202317010746 A\", \"(22)\": \"2023-02-17\", \"(31)\": \"10-2021 -0091135\", \"(32)\": \"2021-07-12\", \"(33)\": \"KR\", \"(43)\": \"2024-04-19\", \"(51)\": \"H01M 4/133, H01M 4/62, H01M 10/0 525\", \"(54)\": \"NEGATIVE ELECTRODE FOR SECONDARY BATTERY, COMPRISING ACTIVE MATERIAL LAYERS HAVING DIFFERENT COMPOSITIONS, AND ELECTRODE ASSEMBLY AND SECONDARY BATTERY COMPRISING SAME\", \"(57)\": \"The present invention relates to: a secondary battery negative electrode in which a negative electrode active material layer is formed on at least one surface of a negative electrode current collector; and an electrode assembly and a secondary battery comprisi ng same, the negative electrode active material layer comprising a planar first negative electrode active material layer and  a second negative electrode active material layer formed on one or both surfaces of the first negative electrode active material layer, wherein  the first negative electrode active material layer comprises uncoated graphite as a first negative electrode ac tive material, and the second negative electrode active material layer comprises carbon -coated graphite as a second negative electrode active material.    No. of Pages : 17  No. of Claims : 12\", \"(61)\": \"NA :NA\", \"(62)\": \"NA :NA\", \"(71)\": \"1)LG ENERGY SOLUTION, LTD.        Address of Applicant :Tower 1,  108, Yeoui -daero, Yeongdeungpo -gu, Seoul 07335 Republic of Korea\", \"(72)\": \"1)NOH, Taegyun\", \"(86)\": \"PCT/KR2022/009475  :30/06/2022\", \"(87)\": \"WO 2023/287076\"}\n"
          ]
        },
        {
          "output_type": "stream",
          "name": "stderr",
          "text": [
            "Setting `pad_token_id` to `eos_token_id`:128001 for open-end generation.\n"
          ]
        },
        {
          "output_type": "stream",
          "name": "stdout",
          "text": [
            "PRED: {\"(19)\": \"INDIA\", \"(21)\": \"202317010746 A\", \"(22)\": \"2023-02-17\", \"(31)\": \"10-2021 -0091135\", \"(32)\": \"2021-07-12\", \"(33)\": \"Republic of Korea\", \"(43)\": \"2024-04-19\", \"(51)\": \"H01M 4/133, H01M 4/62, H01M 10/0525\", \"(54)\": \"NEGATIVE ELECTRODE FOR SECONDARY BATTERY, COMPRISING ACTIVE MATERIAL LAYERS HAVING DIFFERENT COMPOSITIONS, AND ELECTRODE ASSEMBLY AND SECONDARY BATTERY COMPRISING SAME\", \"(57)\": \"The present invention relates to: a secondary battery negative electrode in which a negative electrode active material layer is formed on at least one surface of a negative electrode current collector; and an electrode assembly and a secondary battery comprisi ng same, the negative electrode active material layer comprising a planar first negative electrode active material layer and  a second negative electrode active material layer formed on one or both surfaces of the first negative electrode active material layer, wherein  the first negative electrode active material layer comprises uncoated graphite as a first negative electrode ac tive material, and the second negative electrode active material layer comprises carbon -coated graphite as a second negative electrode active material.    No. of Pages : 17  No. of Claims : 12\", \"(61)\": \"NA :NA\", \"(62)\": \"NA :NA\", \"(71)\": \"1)LG ENERGY SOLUTION, LTD.        Address of Applicant :Tower 1,  108, Yeoui -daero, Yeongdeungpo -gu, Seoul 07335 Republic of Korea\", \"(72)\": \"1)NOH, Taegyun\", \"(86)\": \"PCT/KR2022/009475  :30/06/2022\", \"(87)\": \"WO 2023/287076\"}\n",
            "score: 0.9940318302387268 length: 1.0093271152564958 seconds: 74.996651\n",
            "\n",
            "\n",
            "INPUT: (21) Application No.202317012252 A  (19) INDIA  (22) Date of filing of Application :23/02/2023  (43) Publication Date : 19/04/2024    (54) Title of the invention : POROUS ELECTROLYZER GAS DIFFUSION LAYER AND METHOD OF MAKING THEREOF     (51) International classification  :C25B 11/032, C25B 9/23, C25B 1/04, B22F 3/11, B22F 3/22 (31) Priority Document No  :63/056820  (32) Priority Date  :27/07/2020  (33) Name of priority country  :U.S.A.  (86) International Application No          Filing Date  :PCT/US2021/043047  :23/07/2021  (87) International Publication No  :WO 2022/026332  (61) Patent of Addition to Application Number          Filing Date  :NA :NA (62) Divisional to Application Number          Filing Date  :NA :NA    (71)Name of Applicant :     1)OHMIUM INTERNATIONAL, INC.        Address of Applicant :885 Tahoe Blvd., Suite B1 Incline Village, Nevada 89451 U.S.A.  (72)Name of Inventor :     1)BALLANTINE, Arne     2)KARUPPAIAH, Chockkalingam     3)NGUYEN, Dien     4)NGUYEN, James   (57) Abstract :  A porous titanium sheet configured to function as an anode side gas diffusion layer of a proton exchange membrane (PEM) electrolyzer  is formed by a powder technique, such as tape casting or powder metallurgy.    No. of Pages : 15  No. of Claims : 22\n",
            "OUTPUT: {\"(19)\": \"INDIA\", \"(21)\": \"202317012252 A\", \"(22)\": \"2023-02-23\", \"(31)\": \"63/056820\", \"(32)\": \"2020-07-27\", \"(33)\": \"US\", \"(43)\": \"2024-04-19\", \"(51)\": \"C25B 11/032, C25B 9/23, C25B 1/04, B22F 3/11, B22F 3/22\", \"(54)\": \"POROUS ELECTROLYZER GAS DIFFUSION LAYER AND METHOD OF MAKING THEREOF\", \"(57)\": \"A porous titanium sheet configured to function as an anode side gas diffusion layer of a proton exchange membrane (PEM) electrolyzer  is formed by a powder technique, such as tape casting or powder metallurgy.    No. of Pages : 15  No. of Claims : 22\", \"(61)\": \"NA :NA\", \"(62)\": \"NA :NA\", \"(71)\": \"1)OHMIUM INTERNATIONAL, INC.        Address of Applicant :885 Tahoe Blvd., Suite B1 Incline Village, Nevada 89451 U.S.A.\", \"(72)\": \"1)BALLANTINE, Arne     2)KARUPPAIAH, Chockkalingam     3)NGUYEN, Dien     4)NGUYEN, James\", \"(86)\": \"PCT/US2021/043047  :23/07/2021\", \"(87)\": \"WO 2022/026332\"}\n"
          ]
        },
        {
          "output_type": "stream",
          "name": "stderr",
          "text": [
            "Setting `pad_token_id` to `eos_token_id`:128001 for open-end generation.\n"
          ]
        },
        {
          "output_type": "stream",
          "name": "stdout",
          "text": [
            "PRED: {\"(19)\": \"INDIA\", \"(21)\": \"202317012252 A\", \"(22)\": \"2023-02-23\", \"(31)\": \"63/056820\", \"(32)\": \"2020-07-27\", \"(33)\": \"US\", \"(43)\": \"2024-04-19\", \"(51)\": \"C25B 11/032, C25B 9/23, C25B 1/04, B22F 3/11, B22F 3/22\", \"(54)\": \"POROUS ELECTROLYZER GAS DIFFUSION LAYER AND METHOD OF MAKING THEREOF\", \"(57)\": \"A porous titanium sheet configured to function as an anode side gas diffusion layer of a proton exchange membrane (PEM) electrolyzer  is formed by a powder technique, such as tape casting or powder metallurgy.    No. of Pages : 15  No. of Claims : 22\", \"(61)\": \"NA :NA\", \"(62)\": \"NA :NA\", \"(71)\": \"1)OHMIUM INTERNATIONAL, INC.        Address of Applicant :885 Tahoe Blvd., Suite B1 Incline Village, Nevada 89451 U.S.A.\", \"(72)\": \"1)BALLANTINE, Arne     2)KARUPPAIAH, Chockkalingam     3)NGUYEN, Dien     4)NGUYEN, James\", \"(86)\": \"PCT/US2021/043047  :23/07/2021\", \"(87)\": \"WO 2022/026332\"}\n",
            "score: 1.0 length: 1.0 seconds: 65.123818\n",
            "\n",
            "\n",
            "INPUT: (21) Application No.202317011916 A  (19) INDIA  (22) Date of filing of Application :22/02/2023  (43) Publication Date : 19/04/2024    (54) Title of the invention : RESOURCE AWARENESS METHOD AND COMMUNICATION APPARATUS     (51) International classification  :H04W 4/40  (31) Priority Document No  :202010785378.2  (32) Priority Date  :06/08/2020  (33) Name  of priority country  :China  (86) International Application No          Filing Date  :PCT/CN2021/110145  :02/08/2021  (87) International Publication No  :WO 2022/028379  (61) Patent of Addition to Application Number          Filing Date  :NA :NA (62) Divis ional to Application Number          Filing Date  :NA :NA    (71)Name of Applicant :     1)HUAWEI TECHNOLOGIES CO., LTD.        Address of Applicant :Huawei Administration Building, Bantian, Longgang District Shenzhen, Guangdong 518129 China  (72)Name of Inv entor :     1)YANG, Fan   (57) Abstract :  Embodiments of the present application provide a resource awareness method and a communication apparatus. The resource awareness method can comprise: a first terminal device determines, in a first selection window , a first candidate resource set used for sidelink transmission, and the first terminal device determines a second candidate resource set according to a resource aware ness result in a first awareness window, the second candidate resource set being a univer sal set or a subset of the first candidate resource set; and the first terminal device performs awareness on a sidelink resource in a second awareness window, and sends a resour ce awareness result in the second awareness window to a second terminal device at a first moment, the first moment being determined according to the second candidate resource set. By using the embodiments of the present application, the accuracy of resource  awareness can be improved, and the probability of resource collision can be r educed.    No. of Pages : 53  No. of Claims : 17\n",
            "OUTPUT: {\"(19)\": \"INDIA\", \"(21)\": \"202317011916 A\", \"(22)\": \"2023-02-22\", \"(31)\": \"202010785378.2\", \"(32)\": \"2020-08-06\", \"(33)\": \"CN\", \"(43)\": \"2024-04-19\", \"(51)\": \"H04W 4/40\", \"(54)\": \"RESOURCE AWARENESS METHOD AND COMMUNICATION APPARATUS\", \"(57)\": \"Embodiments of the present application provide a resource awareness method and a communication apparatus. The resource awareness method can comprise: a first terminal device determines, in a first selection window , a first candidate resource set used for sidelink transmission, and the first terminal device determines a second candidate resource set according to a resource aware ness result in a first awareness window, the second candidate resource set being a univer sal set or a subset of the first candidate resource set; and the first terminal device performs awareness on a sidelink resource in a second awareness window, and sends a resour ce awareness result in the second awareness window to a second terminal device at a first moment, the first moment being determined according to the second candidate resource set. By using the embodiments of the present application, the accuracy of resource  awareness can be improved, and the probability of resource collision can be r educed.    No. of Pages : 53  No. of Claims : 17\", \"(61)\": \"NA :NA\", \"(62)\": \"NA :NA\", \"(71)\": \"1)HUAWEI TECHNOLOGIES CO., LTD.        Address of Applicant :Huawei Administration Building, Bantian, Longgang District Shenzhen, Guangdong 518129 China\", \"(72)\": \"1)YANG, Fan\", \"(86)\": \"PCT/CN2021/110145  :02/08/2021\", \"(87)\": \"WO 2022/028379\"}\n"
          ]
        },
        {
          "output_type": "stream",
          "name": "stderr",
          "text": [
            "Setting `pad_token_id` to `eos_token_id`:128001 for open-end generation.\n"
          ]
        },
        {
          "output_type": "stream",
          "name": "stdout",
          "text": [
            "PRED: {\"(19)\": \"INDIA\", \"(21)\": \"202317011916 A\", \"(22)\": \"2023-02-22\", \"(31)\": \"202010785378.2\", \"(32)\": \"2020-08-06\", \"(33)\": \"CN\", \"(43)\": \"2024-04-19\", \"(51)\": \"H04W 4/40\", \"(54)\": \"RESOURCE AWARENESS METHOD AND COMMUNICATION APPARATUS\", \"(57)\": \"Embodiments of the present application provide a resource awareness method and a communication apparatus. The resource awareness method can comprise: a first terminal device determines, in a first selection window, a first candidate resource set used for sidelink transmission, and the first terminal device determines a second candidate resource set according to a resource aware ness result in a first awareness window, the second candidate resource set being a univer sal set or a subset of the first candidate resource set; and the first terminal device performs awareness on a sidelink resource in a second awareness window, and sends a resour ce awareness result in the second awareness window to a second terminal device at a first moment, the first moment being determined according to the second candidate resource set. By using the embodiments of the present application, the accuracy of resource  awareness can be improved, and the probability of resource collision can be r educed.    No. of Pages : 53  No. of Claims : 17\", \"(61)\": \"NA :NA\", \"(62)\": \"NA :NA\", \"(71)\": \"1)HUAWEI TECHNOLOGIES CO., LTD.        Address of Applicant :Huawei Administration Building, Bantian, Longgang District Shenzhen, Guangdong 518129 China\", \"(72)\": \"1)YANG, Fan\", \"(86)\": \"PCT/CN2021/110145  :02/08/2021\", \"(87)\": \"WO 2022/028379\"}\n",
            "score: 0.9996820349761526 length: 0.9993642720915448 seconds: 73.713133\n",
            "\n",
            "\n",
            "INPUT: (21) Application No.202317012254 A  (19) INDIA  (22) Date of filing of Application :23/02/2023  (43) Publication Date : 19/04/2024    (54) Title of the invention : FOOD COMPOSITION FOR ALLEVIATING OR TREATING CARDIO -CEREBROVASCULAR DISEASE, AND PHARMACEUTICAL COMPOSITION FOR PREVENTING OR TREATING CARDIO -CEREBROVASCULAR DISEASE, COMPRISING 2' -FUCOSYL LACTOSE     (51) International classification  :A61K 31/702, A61P 9/00, A61P 9/10, A61P 7/02, A61P 9/12 (31) Priority Document No  :10-2020 -0117862  (32) Priority Date  :14/09/2020  (33) Name of priority country  :Republic of Korea  (86) International A pplication No          Filing Date  :PCT/KR2021/006498  :25/05/2021  (87) International Publication No  :WO 2022/055073  (61) Patent of Addition to Application Number          Filing Date  :NA :NA (62) Divisional to Application Number          Filing Date  :NA :NA    (71)Name of Applicant :     1)ADVANCED PROTEIN TECHNOLOGIES CORP.        Address of Applicant :7F, 147, Gwanggyo -ro, Yeongtong -gu Suwon -si Gyeonggi -do 16229 Republic of Korea  (72)Name of Inventor :     1)KIM, Kyung Ho     2)SHIN, Chul Soo     3)YOON , Jong Won     4)JEON, Seon Min     5)SONG, Young Ha     6)JEON, Ok Seon   (57) Abstract :  The present invention relates to a 2' -fucosyllactose -containing food composition and pharmaceutical composition effective in alleviating, preventing, or treating vari ous cardio -cerebrovascular diseases caused by thrombus formation, and 2' -fucosyllactose (2' -FL) of the present invention exhibits agonistic (inhibitory) action with respect to collagen and collagen -related peptide (CRP), which is a platelet agonist, and th us may be used to suppress thrombus formation caused by abnormal action of platelets.    No. of Pages : 25  No. of Claims : 8\n",
            "OUTPUT: {\"(19)\": \"INDIA\", \"(21)\": \"202317012254 A\", \"(22)\": \"2023-02-23\", \"(31)\": \"10-2020 -0117862\", \"(32)\": \"2020-09-14\", \"(33)\": \"KR\", \"(43)\": \"2024-04-19\", \"(51)\": \"A61K 31/702, A61P 9/00, A61P 9/10, A61P 7/02, A61P 9/12\", \"(54)\": \"FOOD COMPOSITION FOR ALLEVIATING OR TREATING CARDIO -CEREBROVASCULAR DISEASE, AND PHARMACEUTICAL COMPOSITION FOR PREVENTING OR TREATING CARDIO -CEREBROVASCULAR DISEASE, COMPRISING 2' -FUCOSYL LACTOSE\", \"(57)\": \"The present invention relates to a 2' -fucosyllactose -containing food composition and pharmaceutical composition effective in alleviating, preventing, or treating vari ous cardio -cerebrovascular diseases caused by thrombus formation, and 2' -fucosyllactose (2' -FL) of the present invention exhibits agonistic (inhibitory) action with respect to collagen and collagen -related peptide (CRP), which is a platelet agonist, and th us may be used to suppress thrombus formation caused by abnormal action of platelets.    No. of Pages : 25  No. of Claims : 8\", \"(61)\": \"NA :NA\", \"(62)\": \"NA :NA\", \"(71)\": \"1)ADVANCED PROTEIN TECHNOLOGIES CORP.        Address of Applicant :7F, 147, Gwanggyo -ro, Yeongtong -gu Suwon -si Gyeonggi -do 16229 Republic of Korea\", \"(72)\": \"1)KIM, Kyung Ho     2)SHIN, Chul Soo     3)YOON , Jong Won     4)JEON, Seon Min     5)SONG, Young Ha     6)JEON, Ok Seon\", \"(86)\": \"PCT/KR2021/006498  :25/05/2021\", \"(87)\": \"WO 2022/055073\"}\n"
          ]
        },
        {
          "output_type": "stream",
          "name": "stderr",
          "text": [
            "Setting `pad_token_id` to `eos_token_id`:128001 for open-end generation.\n"
          ]
        },
        {
          "output_type": "stream",
          "name": "stdout",
          "text": [
            "PRED: {\"(19)\": \"INDIA\", \"(21)\": \"202317012254 A\", \"(22)\": \"2023-02-23\", \"(31)\": \"10-2020 -0117862\", \"(32)\": \"2020-09-14\", \"(33)\": \"KR\", \"(43)\": \"2024-04-19\", \"(51)\": \"A61K 31/702, A61P 9/00, A61P 9/10, A61P 7/02, A61P 9/12\", \"(54)\": \"FOOD COMPOSITION FOR ALLEVIATING OR TREATING CARDIO -CEREBROVASCULAR DISEASE, AND PHARMACEUTICAL COMPOSITION FOR PREVENTING OR TREATING CARDIO -CEREBROVASCULAR DISEASE, COMPRISING 2' -FUCOSYL LACTOSE\", \"(57)\": \"The present invention relates to a 2' -fucosyllactose -containing food composition and pharmaceutical composition effective in alleviating, preventing, or treating vari ous cardio -cerebrovascular diseases caused by thrombus formation, and 2' -fucosyllactose (2' -FL) of the present invention exhibits agonistic (inhibitory) action with respect to collagen and collagen -related peptide (CRP), which is a platelet agonist, and th us may be used to suppress thrombus formation caused by abnormal action of platelets.    No. of Pages : 25  No. of Claims : 8\", \"(61)\": \"NA :NA\", \"(62)\": \"NA :NA\", \"(71)\": \"1)ADVANCED PROTEIN TECHNOLOGIES CORP.        Address of Applicant :7F, 147, Gwanggyo -ro, Yeongtong -gu Suwon -si Gyeonggi -do 16229 Republic of Korea\", \"(72)\": \"1)KIM, Kyung Ho     2)SHIN, Chul Soo     3)YOON, Jong Won     4)JEON, Seon Min     5)SONG, Young Ha     6)JEON, Ok Seon\", \"(86)\": \"PCT/KR2021/006498  :25/05/2021\", \"(87)\": \"WO 2022/055073\"}\n",
            "score: 0.9996411912450663 length: 0.9992826398852224 seconds: 86.693418\n",
            "\n",
            "\n",
            "INPUT: (21) Application No.202324067856 A  (19) INDI A  (22) Date of filing of Application :10/10/2023  (43) Publication Date : 19/04/2024    (54) Title of the invention : DISCHARGE LAMP LIGHTING DEVICE AND EXPOSURE APPARATUS INCLUDING SAME     (51) International classification  :H05B0041288000, H05B0041292 000, B60Q0001000000, H05B0041040000, H05B0041230000  (31) Priority Document No  :2022 -164418  (32) Priority Date  :13/10/2022  (33) Name of priority country  :Japan  (86) International Application No          Filing Date  :NA :NA (87) International Public ation No  : NA  (61) Patent of Addition to Application Number          Filing Date  :NA :NA (62) Divisional to Application Number          Filing Date  :NA :NA    (71)Name of Applicant :     1)PHOENIX ELECTRIC CO., LTD.        Address of Applicant :703, Mik age, Toyotomi -cho, Himeji -shi, Hyogo 6792122, Japan Japan  (72)Name of Inventor :     1)Tomihiko IKEDA     2)Toshiaki TANIDA     3)Toshitaka FUJII   (57) Abstract :  It is intended to eliminate an adverse effect exerted on an igniter by ultraviolet rays emit ted from a discharge lamp by disposing the igniter in adjacent to a power supply; namely, it is intended to provide a discharge lamp lighting device that eliminates nec essity to dispose the igniter in adjacent to the discharge lamp. The present discharge l amp lighting circuit (10), provided in a discharge lamp lighting device (A) for lighting a discharge lamp (L) of a direct -current lighting type, activates and lights the discharge lamp (L) through an extension cable (C) and is composed of a ballast\n",
            "OUTPUT: {\"(19)\": \"INDIA\", \"(21)\": \"202324067856 A\", \"(22)\": \"2023-10-10\", \"(31)\": \"2022 -164418\", \"(32)\": \"2022-10-13\", \"(33)\": \"JP\", \"(43)\": \"2024-04-19\", \"(51)\": \"H05B0041288000, H05B0041292 000, B60Q0001000000, H05B0041040000, H05B0041230000\", \"(54)\": \"DISCHARGE LAMP LIGHTING DEVICE AND EXPOSURE APPARATUS INCLUDING SAME\", \"(57)\": \"It is intended to eliminate an adverse effect exerted on an igniter by ultraviolet rays emit ted from a discharge lamp by disposing the igniter in adjacent to a power supply; namely, it is intended to provide a discharge lamp lighting device that eliminates nec essity to dispose the igniter in adjacent to the discharge lamp. The present discharge l amp lighting circuit\", \"(61)\": \"NA :NA\", \"(62)\": \"NA :NA\", \"(71)\": \"1)PHOENIX ELECTRIC CO., LTD.        Address of Applicant :703, Mik age, Toyotomi -cho, Himeji -shi, Hyogo 6792122, Japan Japan\", \"(72)\": \"1)Tomihiko IKEDA     2)Toshiaki TANIDA     3)Toshitaka FUJII\", \"(86)\": \"NA :NA\", \"(87)\": \"NA\"}\n"
          ]
        },
        {
          "output_type": "stream",
          "name": "stderr",
          "text": [
            "Setting `pad_token_id` to `eos_token_id`:128001 for open-end generation.\n"
          ]
        },
        {
          "output_type": "stream",
          "name": "stdout",
          "text": [
            "PRED: {\"(19)\": \"INDIA\", \"(21)\": \"202324067856 A\", \"(22)\": \"2023-10-10\", \"(31)\": \"2022-164418\", \"(32)\": \"2022-10-13\", \"(33)\": \"JP\", \"(43)\": \"2024-04-19\", \"(51)\": \"H05B0041288000, H05B0041292 000, B60Q0001000000, H05B0041040000, H05B0041230000\", \"(54)\": \"DISCHARGE LAMP LIGHTING DEVICE AND EXPOSURE APPARATUS INCLUDING SAME\", \"(57)\": \"It is intended to eliminate an adverse effect exerted on an igniter by ultraviolet rays emit ted from a discharge lamp by disposing the igniter in adjacent to a power supply; namely, it is intended to provide a discharge lamp lighting device that eliminates nec essity to dispose the igniter in adjacent to the discharge lamp. The present discharge l amp lighting circuit (10), provided in a discharge lamp lighting device (A) for lighting a discharge lamp (L) of a direct -current lighting type, activates and lights the discharge lamp (L) through an extension cable (C) and is composed of a ballast\", \"(61)\": \"NA :NA\", \"(62)\": \"NA :NA\", \"(71)\": \"1)PHOENIX ELECTRIC CO., LTD.        Address of Applicant :703, Mik age, Toyotomi -cho, Himeji -shi, Hyogo 6792122, Japan Japan\", \"(72)\": \"1)Tomihiko IKEDA     2)Toshiaki TANIDA     3)Toshitaka FUJII\", \"(86)\": \"NA :NA\", \"(87)\": \"NA\"}\n",
            "score: 0.8947849954254345 length: 1.232890704800817 seconds: 69.997299\n",
            "\n",
            "\n",
            "INPUT: (21) Applica tion No.202314013186 A  (19) INDIA  (22) Date of filing of Application :27/02/2023  (43) Publication Date : 19/04/2024    (54) Title of the invention : INTERNAL ARCHITECTURE OF A COMPUTING DEVICE     (51) International classification  :G06F1/20, H05K1/02  (31) Priority Document No  :17/653,634  (32) Priority Date  :04/03/2022  (33) Name of priority country  :U.S.A.  (86) International Application No          Filing Date  :NA :NA (87) International Publication No  : NA  (61) Patent of Addition to Applicat ion Number          Filing Date  :NA :NA (62) Divisional to Application Number          Filing Date  :NA :NA    (71)Name of Applicant :     1)APPLE INC.        Address of Applicant :One Apple Park Way Cupertino, California 95014, United States of America U.S .A. (72)Name of Inventor :     1)LAURENT, Kristopher P.     2)DEGNER, Brett W.     3)NIGEN, Jay S.     4)PRATHER, Eric R.     5)NARAJOWSKI, David H.   (57) Abstract :  ABSTRACT This application relates to a layout of components within an electronic device. Th e electronic device includes a circuit board and one or more thermal components located on or proximate to each surface of the circuit board. As a result, thermal e nergy generated by components of the circuit board are drawn away from the circuit board in a more efficient manner. Additionally, the electronic device may include one or more air movers designed to draw ambient air into the electronic device in a manner that  causes the ambient air to cool components upstream from the air movers. Further, the el ectronic device includes a fin stack that is thermally coupled to the aforementioned thermal components, and further receives air driven in by the air mover(s). Also, the electroni c device is designed to receive the ambient air through openings that define  a 360 -degree air inlet.    No. of Pages : 44  No. of Claims : 20\n",
            "OUTPUT: {\"(19)\": \"INDIA\", \"(21)\": \"202314013186 A\", \"(22)\": \"2023-02-27\", \"(31)\": \"17/653,634\", \"(32)\": \"2022-03-04\", \"(33)\": \"US\", \"(43)\": \"2024-04-19\", \"(51)\": \"G06F1/20, H05K1/02\", \"(54)\": \"INTERNAL ARCHITECTURE OF A COMPUTING DEVICE\", \"(57)\": \"ABSTRACT This application relates to a layout of components within an electronic device. Th e electronic device includes a circuit board and one or more thermal components located on or proximate to each surface of the circuit board. As a result, thermal e nergy generated by components of the circuit board are drawn away from the circuit board in a more efficient manner. Additionally, the electronic device may include one or more air movers designed to draw ambient air into the electronic device in a manner that  causes the ambient air to cool components upstream from the air movers. Further, the el ectronic device includes a fin stack that is thermally coupled to the aforementioned thermal components, and further receives air driven in by the air mover(s). Also, the electroni c device is designed to receive the ambient air through openings that define  a 360 -degree air inlet.    No. of Pages : 44  No. of Claims : 20\", \"(61)\": \"NA :NA\", \"(62)\": \"NA :NA\", \"(71)\": \"1)APPLE INC.        Address of Applicant :One Apple Park Way Cupertino, California 95014, United States of America U.S .A.\", \"(72)\": \"1)LAURENT, Kristopher P.     2)DEGNER, Brett W.     3)NIGEN, Jay S.     4)PRATHER, Eric R.     5)NARAJOWSKI, David H.\", \"(86)\": \"NA :NA\", \"(87)\": \"NA\"}\n",
            "PRED: {\"(19)\": \"INDIA\", \"(21)\": \"202314013186 A\", \"(22)\": \"2023-02-27\", \"(31)\": \"17/653,634\", \"(32)\": \"2022-03-04\", \"(33)\": \"US\", \"(43)\": \"2024-04-19\", \"(51)\": \"G06F1/20, H05K1/02\", \"(54)\": \"INTERNAL ARCHITECTURE OF A COMPUTING DEVICE\", \"(57)\": \"ABSTRACT This application relates to a layout of components within an electronic device. Th e electronic device includes a circuit board and one or more thermal components located on or proximate to each surface of the circuit board. As a result, thermal e nergy generated by components of the circuit board are drawn away from the circuit board in a more efficient manner. Additionally, the electronic device may include one or more air movers designed to draw ambient air into the electronic device in a manner that  causes the ambient air to cool components upstream from the air movers. Further, the el ectronic device includes a fin stack that is thermally coupled to the aforementioned thermal components, and further receives air driven in by the air mover(s). Also, the electroni c device is designed to receive the ambient air through openings that define  a 360 -degree air inlet.    No. of Pages : 44  No. of Claims : 20\", \"(61)\": \"NA :NA\", \"(62)\": \"NA :NA\", \"(71)\": \"1)APPLE INC.        Address of Applicant :One Apple Park Way Cupertino, California 95014, United States of America U.S.A.\", \"(72)\": \"1)LAURENT, Kristopher P.     2)DEGNER, Brett W.     3)NIGEN, Jay S.     4)PRATHER, Eric R.     5)NARAJOWSKI, David H.\", \"(86)\": \"NA :NA\", \"(87)\": \"NA\"}\n",
            "score: 0.9996674426338543 length: 0.9993351063829787 seconds: 75.184121\n",
            "\n",
            "\n",
            "Model: meta-llama/Meta-Llama-3-8B-Instruct Mean time: 77.99580585 Mean score: 0.9556925792640728\n"
          ]
        }
      ]
    }
  ]
}